{
 "cells": [
  {
   "attachments": {},
   "cell_type": "markdown",
   "id": "56d5be13-b67a-42df-a768-9e764c33a561",
   "metadata": {
    "jp-MarkdownHeadingCollapsed": true
   },
   "source": [
    "# Spojení DYNATREE dat\n",
    "\n",
    "Skript pro dopočítání hodnot pro spojení a vyhodnocení dat. Výstupem je csv soubor. Z něj si vyfiltruj co potřebuješ a udělej jaké analýzy chceš. Pokud něco chybí nebo je potřeba opravit, vysvětlit -> R., B., ...\n",
    "\n",
    "* vstupy: viz sekce \"Načtení dat\"\n",
    "* data, která se přebírají předpočítaná: viz sekce \"Dendrologické parametry\". V tomo místě se některé sloupce přejmenovávaji.\n",
    "\n",
    "## Výstup\n",
    "\n",
    "* Identifikace experimentu je ve sloupcích `type`, `day`, `tree`, `measurement`. Typ je normal-mokro-den...\n",
    "* Identifikace senzoru `probe`\n",
    "* Sloupec `pullNo` je pořadové číslo zatažení. Číslováno od nuly, v dynamice vždy nula.  \n",
    "* Sloupec `probeCam` je identifikace senzoru pro statiku. Má smysl pouze pro statiku, ale je k dispozici i pro dynamiku. Identifikuje, který inklinometr je na kameře a který ne. Sloupec nabývá hodnot  `Elasto(90)`, `InclinoCam` a `InclinoNoCam`.\n",
    "* Základní frekvence `first_frequency` se přebírá ze souboru `FFT_csv_tukey.csv` (V tomto souboru je uvedena jako `peak`.)\n",
    "* Hodnota `CG`, `size_category`, `DBH`, `height`, `trunk_height`, `tapering` se přebírají z xlsx souboru  `Popis_Babice_VSE.xlsx`. Tento soubor je symbolický odkaz a odkazuje na aktuální podobu xlsx souboru, která má ve jménu i datum. Hodnoty `height` a `CG` se opravují pro stromy, které prošly redukcí. Viz sekce \"Dopočítání dalších sloupců\".\n",
    "* Sloupce `CL`, `CR`, `CT`, `dens_all`, `w_all`, `dens_e`, `w_e` se přebírají beze změny z dodaných dat (Janek). Soubor `velocity_babice_oprava.csv` je v adresáři se vstupními daty a jenom se kopíruje mezi výstupní data. Hodnoty `CL`, `CR`, `CT` jsou pro každé datum. `CR`, `CT` pro 2022-04-05 chybí. Hodnoty `dens` a `w` jsou změřeny jenom jednou za celou dobu měření. \n",
    "* Sloupce `maxima_LDD`, `hilbert_LDD`, `wavelet_LDD`, `def_LDD`, `def2_LDD`, `def2diff_LDD`, `defmulti_LDD` se přebírají z výpočtu útlumu.\n",
    "  * **TODO** Vybrat jenom jednu metodu. Pokud to bude Patrikova FFT metoda (Downhill???), zařadit sem tuto metodu. Použít skripty z webové aplikace a modifikovat je.\n",
    "* Sloupce `reduction_20`, `reduction_20+20`, `reduction_40` jsou True/False a určují, zda je strom po první, po druhé nebo po dvojnásobné redukci. Rozhodovací funkce je v knihovně `dynatree` a rozhoduje se podle data, typu měření a čísla stromu.\n",
    "  * **TODO** Dát sem odkaz na soubor anebo přímo na funkci.\n",
    "* Penetrační odpor `pressure`. Vypočteno naším skriptem z dat od Alenky a uloženo do `penetrologger.csv`.\n",
    "  * **TODO** Ujasnit si, jak vyhodnotit.\n",
    "* Vlhkost `w`. Vypočteno naším skriptem z dat od Alenky. \n",
    "  * **TODO** Ujasnit si, jak vyhodnotit.\n",
    "* Ve sloupci `Slope` je směrnice mezi veličinami udávající náklon nebo deformaci a působící moment. O jaké veličiny se jedná se pozná podle hodnoty ve sloupci `probe`. Data ze sloupce `Slope` jsou pro pohodlnější další zpracování zopakována v jednom ze sloupců `slope_root_stiff_nocam`, `slope_root_stiff_cam` anebo `slope_stem_stiff`. Data pocházi ze souboru `anotated_regressions_static.csv`. Odstraňují se data, pro která jsou regresní koeficienty mimo zvolený limit. Limit je stanoven podle analýzy dat pomocí DBSCAN a IQR. Viz `R2_limit_M` a `R2_limit_M_Elasto`.\n",
    "* Hodnoty `EdynL`, `Model1`, `Model1_CG`, `Model2`, `Model2_CG`, `I`, `Model3`,\n",
    "       `Model4`, `Model5`, `Model6`, `slenderness_CG`, `slenderness_H`,\n",
    "       `m_CG^2` se dopočítávají na konci tohoto skriptu.\n",
    "\n",
    "## Obecné poznámky\n",
    "\n",
    "* damping je jenom z extenzometrů, TODO: zdůvodnit, proč jenom extenzometry\n",
    "* chybí optika statika rok 2023 a komplet optika 2024 a 2025\n",
    "* "
   ]
  },
  {
   "cell_type": "markdown",
   "id": "a71cba33-b12c-484c-8cdb-fec416db2841",
   "metadata": {},
   "source": [
    "# Načtení dat"
   ]
  },
  {
   "cell_type": "code",
   "execution_count": 1,
   "id": "1450e39a-1f5c-415a-b3e6-a5aa05a085a5",
   "metadata": {
    "tags": []
   },
   "outputs": [],
   "source": [
    "import pandas as pd\n",
    "import numpy as np\n",
    "try:\n",
    "    # Pokud je konfigurační soubor, použij jej. Pro kompilaci pomocí snakemake nebo v příkazové řádce.\n",
    "    import config\n",
    "    source_path = config.merge['input_dir']\n",
    "    output_folder = config.merge['output_dir']\n",
    "    failed_fft = config.file['FFT_failed']\n",
    "except:\n",
    "    # Pokud není konfigurační soubor, použij následující nastavení. Pro kompilaci v Jupyteru.\n",
    "    source_path = \"https://euler.mendelu.cz/dynatree/static/public\"\n",
    "    failed_fft = \"https://raw.githubusercontent.com/arborist-mendelu/dynatree/refs/heads/master/scripts/csv/FFT_failed.csv\"\n",
    "    output_folder = \".\"\n",
    "    "
   ]
  },
  {
   "cell_type": "code",
   "execution_count": null,
   "id": "384937fd-9295-4f24-89cd-b51a8ca5686b",
   "metadata": {
    "tags": []
   },
   "outputs": [],
   "source": [
    "df_description = pd.read_excel(f\"{source_path}/Popis_Babice_VSE.xlsx\",\n",
    "                              sheet_name=\"Prehledova tabulka_zakludaje\", index_col=1, nrows=14\n",
    "                              ).drop(0)\n",
    "df_description;"
   ]
  },
  {
   "cell_type": "code",
   "execution_count": null,
   "id": "795d7bca-12b3-4842-a4d4-c8dba831539c",
   "metadata": {
    "tags": []
   },
   "outputs": [],
   "source": [
    "df_dynamics = pd.read_csv(f\"{source_path}/FFT_csv_tukey.csv\").rename(columns={'peak':'first_frequency'})\n",
    "df_dynamics = df_dynamics[df_dynamics.probe.isin([\"blueMaj\",\"yellowMaj\",\"Elasto(90)\",\"Pt3\",\"Pt4\",\"a01_z\",\"a02_z\",\"a03_z\"])]\n",
    "df_dynamics = df_dynamics[df_dynamics.tree != \"JD18\"]\n",
    "df_dynamics;"
   ]
  },
  {
   "cell_type": "code",
   "execution_count": null,
   "id": "917a9209-b205-427e-b864-69e949421586",
   "metadata": {
    "tags": []
   },
   "outputs": [],
   "source": [
    "df_static = pd.read_csv(f\"{source_path}/anotated_regressions_static.csv\", index_col=0)\n",
    "df_static = df_static[~df_static.Dependent.isin([\"Force(100)\",\"M_Pt\"])]\n",
    "df_static = df_static[df_static.optics==False]\n",
    "df_static.Slope = np.abs(df_static.Slope)\n",
    "df_static = df_static[df_static.failed == False]\n",
    "df_static;"
   ]
  },
  {
   "cell_type": "code",
   "execution_count": null,
   "id": "d578da7d-95b5-40b1-bfef-4ca7d10e0bd3",
   "metadata": {
    "tags": []
   },
   "outputs": [],
   "source": [
    "# TODO: zvážit, jestli přidat Patrikovy data\n",
    "df_damping = pd.read_csv(f\"{source_path}/damping_factor.csv\")\n",
    "df_damping = df_damping[[\"type\", \"day\", \"tree\", \"probe\", \"measurement\"]+\n",
    "               [i for i in df_damping.columns if \"_LDD\" in i]]\n",
    "df_damping = df_damping[df_damping.tree != \"JD18\"]\n",
    "df_damping;"
   ]
  },
  {
   "cell_type": "code",
   "execution_count": null,
   "id": "62ff2884-f1af-4f16-98c9-35b9855714a4",
   "metadata": {
    "tags": []
   },
   "outputs": [],
   "source": [
    "df_vlhkosti = pd.read_csv(f\"{source_path}/vlhkosti_babice.csv\")\n",
    "df_sondy = pd.read_csv(f\"{source_path}/sondy_a_stromy.csv\")\n",
    "df_sondy;"
   ]
  },
  {
   "cell_type": "code",
   "execution_count": null,
   "id": "460abb3d-787c-4ac9-8023-8fae8095c9c5",
   "metadata": {
    "tags": []
   },
   "outputs": [],
   "source": [
    "df_penetrologger = pd.read_csv(f\"{source_path}/penetrologger.csv\")\n",
    "df_penetrologger;"
   ]
  },
  {
   "cell_type": "code",
   "execution_count": null,
   "id": "d49a4e01-799b-4796-ae38-2f3fed92523c",
   "metadata": {
    "tags": []
   },
   "outputs": [],
   "source": [
    "df_velocity = pd.read_csv(f\"{source_path}/velocity_babice_oprava.csv\")\n",
    "df_velocity = df_velocity[df_velocity[\"tree\"] != \"JD18\"]\n",
    "\n",
    "# ze dne odebrat hodiny\n",
    "df_velocity[\"day\"] = df_velocity[\"day\"].apply(lambda x:x.split( )[0])\n",
    "df_velocity = df_velocity.drop([\"day real\", \"day\"], axis=1) # odebrat nepotrebne sloupce\n",
    "df_velocity = df_velocity.groupby(\"tree\").mean().reset_index() # prumer za kazdy strom\n",
    "df_velocity;"
   ]
  },
  {
   "cell_type": "markdown",
   "id": "6ee919b0-64d1-4e68-9f2a-c8f134895fdb",
   "metadata": {},
   "source": [
    "# Dendrologické parametry\n",
    "\n",
    "Přebírají se sloupce vyjmenované v proměnné `rename_columns` a sloupec `tapering`. Proměnné se přejmenovávají."
   ]
  },
  {
   "cell_type": "code",
   "execution_count": null,
   "id": "1b807695-816f-4cfd-b6fb-af3717bf903e",
   "metadata": {
    "tags": []
   },
   "outputs": [],
   "source": [
    "rename_columns = {\n",
    "    'tree no:':'tree', \n",
    "    'mass Krejza fresh (kg):':\"fresh_mass\",\n",
    "    \"kategorie\":\"size_category\",\n",
    "    \"diameter at 1.3 m (cm):\":\"DBH\",\n",
    "    \"height (m):\": \"height\",\n",
    "    \"centre of gravity (m)*:\": \"CG\",\n",
    "    'trunk height (m):': \"trunk_height\"\n",
    "}\n",
    "df_final_description = df_description.rename(columns=rename_columns)[[i for i in rename_columns.values()] + [\"tapering\"]]\n",
    "df_final_description[\"tree\"] = df_final_description[\"tree\"].map(lambda x: f\"BK{x:02}\")\n",
    "\n",
    "df_final_description;"
   ]
  },
  {
   "cell_type": "markdown",
   "id": "622df3d3-7cc2-4e89-babf-95ac994f1850",
   "metadata": {},
   "source": [
    "* Fresh mass je dopočítána z alometrické rovnice ze souboru `Biomass_Beech_Babice_JK`. Hodnota `mean(SB+BB)*1.73`, Hodnota 1.73 je poměr mezi hustotou dřeva v čerstvém stavu a v konvenčním stavu dle článku Zlámal a kol. 2024, Beech ....\n",
    "* TODO Doplnit hmotu ze skenu.\n",
    "* `height` a `CG` měřeno výškoměrem a dopočítáno. Po redukci sníženo o odpovídající procenta, viz kód níže.\n",
    "* TODO Doplnit výšky ze skenů.\n",
    "* `CG` je dopočítáno jako výška kmene plus polovina výšky koruny."
   ]
  },
  {
   "cell_type": "markdown",
   "id": "66b72a30-0944-4cec-a34b-5e89f509b776",
   "metadata": {},
   "source": [
    "# Zpracování penetrologgeru a vlhkosti půdy\n",
    "\n",
    "Pro kazdy strom nebo a pro kazdy den najdeme jednu hodnotu reprezentujici mechanicke vlastnosti pudy. \n",
    "Najdeme median pres vsechny udaje pro danou hloubku, den a strom a pote pro dany den a strom median pro vsechnhy hloubky. \n",
    "Prvni krok zajisti, ze vsechny hloubky se budou brat stejnou vahou. Jinak by byla povrchova informace vice zastoupena. \n",
    "\n",
    "Pracujeme s hloubkou jenom do 15 cm. Tato hloubka byla urcena po vyhodnoceni dat.\n",
    "\n",
    "Pocita se podmineny median, pokud jsou k dispozici aspon tri hodnoty."
   ]
  },
  {
   "cell_type": "code",
   "execution_count": null,
   "id": "e497362c-aeff-4c11-8a53-38846f510bb7",
   "metadata": {
    "tags": []
   },
   "outputs": [],
   "source": [
    "last_column = 15\n",
    "\n",
    "df = df_penetrologger.copy()\n",
    "days = df[\"day\"].drop_duplicates()\n",
    "trees = df[\"tree\"].drop_duplicates()\n",
    "trees = [i for i in trees if (i!=\"JD18\") & (i!=\"BK25\")]\n",
    "df = df[df[\"tree\"].isin(trees)]\n",
    "\n",
    "df = df[~((df[\"tree\"] == \"BK10\") & (df[\"day\"] == \"2021-03-22\"))]\n",
    "df = df[~((df[\"tree\"] == \"BK08\") & (df[\"day\"] == \"2021-03-22\"))]\n",
    "df = df.drop([\"0\",\"směr\",\"poznámka\",\"PENETRATION DATA\"], axis=1)\n",
    "days = df[\"day\"].drop_duplicates().to_numpy()\n",
    "df = df.loc[:,:f\"{last_column}\"]\n",
    "\n",
    "\n",
    "# Funkce pro výpočet mediánu při alespoň 3 nenan hodnotách\n",
    "def conditional_median(row):\n",
    "    valid_values = row.dropna()  # Odstranění NaN hodnot\n",
    "    if len(valid_values) >= 3:\n",
    "        return valid_values.median()\n",
    "    return np.nan  # Pokud méně než 3 hodnoty, vrátí NaN\n",
    "\n",
    "\n",
    "df_means = df.groupby([\"day\",\"tree\"]).agg(conditional_median)\n",
    "df_final_penetro = df_means.median(axis=1, skipna=True)\n",
    "df_final_penetro.name=\"pressure\"\n",
    "df_final_penetro = df_final_penetro.reset_index()\n",
    "df_final_penetro;"
   ]
  },
  {
   "cell_type": "markdown",
   "id": "2d739c4b-09a3-42ff-8016-f25cad78bf25",
   "metadata": {
    "tags": []
   },
   "source": [
    "# Přidání vlhkostí k penetrologgeru\n",
    "\n",
    "Přidáváme první dva horizonty`"
   ]
  },
  {
   "cell_type": "code",
   "execution_count": null,
   "id": "49f4380a-785e-4b7a-b103-598af9984572",
   "metadata": {
    "tags": []
   },
   "outputs": [],
   "source": [
    "df_m = df_vlhkosti.copy()\n",
    "df_m = df_m [[\"vzorek\",\"hmotnostní vlhkost  w\", \"den\"]]\n",
    "df_m.columns = [\"vzorek\",\"w\", \"den\"]\n",
    "# ve soupci vzorek rozdelit zapisy typu 1A na dva sloupce, sonda a horizont.\n",
    "df_m[\"horizont\"] = df_m[\"vzorek\"].apply(lambda x: x[-1])\n",
    "df_m[\"sonda\"] = df_m[\"vzorek\"].apply(lambda x: x[:-1]).astype(int)\n",
    "\n",
    "# načtení tabulky pro převod mezi stromy a sondami\n",
    "sondy = df_sondy\n",
    "sondy;"
   ]
  },
  {
   "cell_type": "code",
   "execution_count": null,
   "id": "ef1f3e1c-f745-4892-8110-96955aee4d70",
   "metadata": {
    "tags": []
   },
   "outputs": [],
   "source": [
    "sondy[\"strom\"] = sondy[\"strom\"].apply(lambda x: \"JD18\" if x==18 else f\"BK{x:02}\")\n",
    "df_m = df_m.merge(sondy, on='sonda', how='left')\n",
    "\n",
    "# df_m = df_m[df_m[\"strom\"]!=\"JD18\"]\n",
    "# df_m[df_m[\"den\"]==\"2021-03-22\"]\n",
    "\n",
    "df_m = (df_m[df_m[\"horizont\"]\n",
    "        .isin([\"A\",\"B\"])]  # vybere prvni dva horizonty\n",
    "        .drop([\"vzorek\", \"horizont\",\"sonda\"], axis=1) # vynechat sloupce\n",
    "        .groupby([\"den\",\"strom\"]).mean()   # prumer \n",
    "        .reset_index()\n",
    "       )\n",
    "df_m.columns = [\"day\",\"tree\",\"w\"]\n",
    "# df_m[df_m[\"day\"]==\"2021-03-22\"]"
   ]
  },
  {
   "cell_type": "code",
   "execution_count": null,
   "id": "2d918dba-0429-4c14-9490-c013d518fe14",
   "metadata": {
    "tags": []
   },
   "outputs": [],
   "source": [
    "df_final_penetro_moisture = df_final_penetro.merge(df_m, on=[\"day\",\"tree\"], how='outer')\n",
    "df_final_penetro_moisture = df_final_penetro_moisture[df_final_penetro_moisture.tree != \"JD18\"]\n",
    "df_final_penetro_moisture;"
   ]
  },
  {
   "cell_type": "markdown",
   "id": "4a88cafe-7856-40f2-ace2-08fc0b2606ec",
   "metadata": {},
   "source": [
    "Data rozdelit na tri skupiny, protoze se opakuje datum:\n",
    "\n",
    "a) 2024-09-02, b) 2024-29-20_mokro a c) zbytek\n",
    "\n",
    "skupina c) se bude slucovat podle datumu, skupiny a) a b) podle datumu a typu mereni.\n"
   ]
  },
  {
   "cell_type": "code",
   "execution_count": null,
   "id": "6aa7cf8c-3c24-4a8e-bb2b-785ff2f81a23",
   "metadata": {
    "tags": []
   },
   "outputs": [],
   "source": [
    "a = df_final_penetro_moisture[df_final_penetro_moisture.day == \"2024-09-02\"]\n",
    "b = df_final_penetro_moisture[df_final_penetro_moisture.day == \"2024-09-02_mokro\"]\n",
    "c = df_final_penetro_moisture[~df_final_penetro_moisture.day.isin([\"2024-09-02\",\"2024-09-02_mokro\"])]\n",
    "b.loc[:,[\"day\",\"type\"]] = [\"2024-09-02\", \"mokro\"]\n",
    "df_final_penetro_moisture_a = a.merge(pd.DataFrame({'day':[\"2024-09-02\"]*2, 'type':[\"normal\",\"afterro2\"]}), how='left')\n",
    "df_final_penetro_moisture_b = b\n",
    "df_final_penetro_moisture_c = c"
   ]
  },
  {
   "cell_type": "markdown",
   "id": "a70c93cf-ea72-4945-96ad-7d7c324aae8b",
   "metadata": {},
   "source": [
    "# Tahovky převést na camera/nocamera"
   ]
  },
  {
   "cell_type": "code",
   "execution_count": null,
   "id": "7ebc4dfd-9d3d-49f4-a178-7ee994ebc9bb",
   "metadata": {
    "tags": []
   },
   "outputs": [],
   "source": [
    "# Limity jsou stanoveny podle analýzy dat pomocí DBSCAN a IQR\n",
    "R2_limit_M = 0.95\n",
    "R2_limit_M_Elasto = 0.97\n",
    "\n",
    "df_tahovky = df_static.copy()  # zkopirovat si, aby zustala i puvodni data\n",
    "df_tahovky = df_tahovky[df_tahovky[\"Dependent\"] != \"M_Pt\"]  # vynechat optiku TODO: optiku nevynechavat\n",
    "df_tahovky = df_tahovky[df_tahovky[\"Dependent\"] != \"Force(100)\"]  # vynechat siloměr\n",
    "df_tahovky = df_tahovky[df_tahovky[\"tree\"] != \"JD18\"]  # vynechat jedličku\n",
    "df_tahovky = df_tahovky[~df_tahovky[\"Slope\"].isna()]  # nesmí být nan v Slope\n",
    "df_tahovky = df_tahovky[df_tahovky[\"optics\"] == False] # vynechat optiku, pro jistotu ještě jednou\n",
    "\n",
    "# odfiltrovat spatne R^2 podle vysledku DBSCAN a hlavne IQR\n",
    "mask = (df_tahovky[\"Dependent\"] == \"M\") & (df_tahovky[\"R^2\"] < R2_limit_M)\n",
    "df_tahovky = df_tahovky[~mask]\n",
    "mask = (df_tahovky[\"Dependent\"] == \"M_Elasto\") & (df_tahovky[\"R^2\"] < R2_limit_M_Elasto)\n",
    "df_tahovky = df_tahovky[~mask]\n",
    "\n",
    "df_tahovky[\"probe\"] = df_tahovky[\"Independent\"].apply(lambda x: \"Elasto(90)\" if x==\"Elasto-strain\" else x)\n",
    "\n",
    "# Nastaveni Camera/NoCamera. Nechat i puvodni kvuli slucovani dat\n",
    "mask = df_tahovky[\"probe\"].isin([\"blueMaj\", \"yellowMaj\"])   # radky s inklinometry\n",
    "df_tahovky.loc[:,\"probeCam\"] = df_tahovky[\"probe\"]\n",
    "df_tahovky.loc[mask,\"probeCam\"] = df_tahovky.loc[mask,\"kamera\"].apply(lambda x: \"InclinoCamera\" if x is True else \"InclinoNoCamera\" if x is False else x)  # prejmenovani\n",
    "\n",
    "df_tahovky = df_tahovky[[\"type\",\"day\",\"tree\",\"probe\", \"probeCam\",\"measurement\",\"pullNo\",\"Slope\"]]\n",
    "\n",
    "# Slope kazdeho inklinometru do samostatneho sloupce\n",
    "probes = [\"InclinoNoCamera\", \"InclinoCamera\", \"Elasto(90)\"]\n",
    "columns = [\"slope_root_stiff_nocam\", \"slope_root_stiff_cam\", \"slope_stem_stiff\"]\n",
    "for probe, column in zip(probes, columns):\n",
    "    mask = df_tahovky[\"probeCam\"]==probe\n",
    "    df_tahovky.loc[mask, column] = df_tahovky.loc[mask,\"Slope\"]\n",
    "df_tahovky;"
   ]
  },
  {
   "attachments": {},
   "cell_type": "markdown",
   "id": "3ef5306f-d7f9-42a9-9f42-ce23f0b5423e",
   "metadata": {},
   "source": [
    "* Slope jsou všechny směrnice a je to rozpadnuté do dalších sloupců slope_root_stiff_nocam, slope_root_stiff_cam, slope_stem_stiff\n",
    "\n",
    "* Přidat slope pro optiku\n",
    "* Přidat sloupeček, něco jako stiffness"
   ]
  },
  {
   "cell_type": "markdown",
   "id": "00090b7a-7319-4e39-9764-8b484d389c00",
   "metadata": {},
   "source": [
    "# Finální spojení\n",
    "\n",
    "TODO\n",
    "\n",
    "* Co znamená v mých poznámkách (Robert) Sapflow se tremi vykricniky?\n",
    "* Dodat data od Patrika pro damping pomocí FFT\n",
    "* leaves True/False"
   ]
  },
  {
   "cell_type": "code",
   "execution_count": null,
   "id": "7b8863da-48b7-4e06-8fa5-74e534c7e89b",
   "metadata": {
    "tags": []
   },
   "outputs": [],
   "source": [
    "# df_final_penetro_moisture_a\n",
    "# df_final_penetro_moisture_b\n",
    "# df_final_penetro_moisture_c\n",
    "# df_final_description\n",
    "# df_velocity\n",
    "# df_damping\n",
    "# df_tahovky\n",
    "# df_dynamics"
   ]
  },
  {
   "cell_type": "code",
   "execution_count": null,
   "id": "a66e63e4-02cf-4965-bcd8-816594022ce7",
   "metadata": {
    "tags": []
   },
   "outputs": [],
   "source": [
    "(df_tahovky.shape, \n",
    " df_dynamics.shape, \n",
    " [i for i in df_tahovky.columns if i in df_dynamics.columns],\n",
    " [i for i in df_dynamics.columns if i in df_tahovky.columns]\n",
    ")"
   ]
  },
  {
   "cell_type": "code",
   "execution_count": null,
   "id": "e26b56f6-d899-4fdc-8a4d-4e4fd9c4f64c",
   "metadata": {
    "tags": []
   },
   "outputs": [],
   "source": [
    "# spojit tahovky a dynamiku pres spolecne sloupce\n",
    "# 'type', 'day', 'tree', 'measurement', 'probe'\n",
    "# Rozmery uplne nesedi, protoze tahovky nekdy byly vyhozeny a dynamika ne, nebo naopak.\n",
    "DF = df_tahovky.merge(df_dynamics, how='outer')\n",
    "DF.shape"
   ]
  },
  {
   "cell_type": "code",
   "execution_count": null,
   "id": "81f8cc85-3981-4c88-92d9-b38d9ad4fa92",
   "metadata": {
    "tags": []
   },
   "outputs": [],
   "source": [
    "[i for i in DF if i in df_final_description]"
   ]
  },
  {
   "cell_type": "code",
   "execution_count": null,
   "id": "881fb493-5625-403a-a920-87f676d07257",
   "metadata": {
    "tags": []
   },
   "outputs": [],
   "source": [
    "# Pridat popis stromu, rozmery, dendroparametry\n",
    "DF = DF.merge(df_final_description, how='left')\n",
    "DF;"
   ]
  },
  {
   "cell_type": "code",
   "execution_count": null,
   "id": "6fb5824e-c0cb-449f-8d34-5a13b566b81e",
   "metadata": {
    "tags": []
   },
   "outputs": [],
   "source": [
    "# Pridat rychlosti a data od Janka. Data pro strom. \n",
    "DF = DF.merge(df_velocity, how='left')"
   ]
  },
  {
   "cell_type": "code",
   "execution_count": null,
   "id": "acb5d1b9-8fb7-477e-9012-d2596498e8f3",
   "metadata": {
    "tags": []
   },
   "outputs": [],
   "source": [
    "DF;"
   ]
  },
  {
   "cell_type": "code",
   "execution_count": null,
   "id": "dd7ae643-66cb-4a6f-af83-baa83917dc63",
   "metadata": {
    "tags": []
   },
   "outputs": [],
   "source": [
    "[i for i in DF.columns if i in df_damping.columns], [i for i in df_damping.columns if i in DF.columns];"
   ]
  },
  {
   "cell_type": "code",
   "execution_count": null,
   "id": "0c5d9884-b73d-4bbe-993f-317d189d31e0",
   "metadata": {
    "tags": []
   },
   "outputs": [],
   "source": [
    "# pridat tlumeni podle poli ['type', 'day', 'tree', 'probe', 'measurement']\n",
    "DF = DF.merge(df_damping, how='left')"
   ]
  },
  {
   "cell_type": "code",
   "execution_count": null,
   "id": "52731213-6a78-43c6-af77-9b2dd5a1619c",
   "metadata": {
    "tags": []
   },
   "outputs": [],
   "source": [
    "# Skupina c) se bude slucovat podle datumu, skupiny a) a b) podle datumu a typu mereni.\n",
    "# Rozdělit na tri disjunktní skupiny, každou spojit se správnými daty a potom skupiny sesypat dohromady\n",
    "# Je to kvůli tomu, že se nedá použít merge když sloupec už existuje a update mi moc nefungovalo (Robert)\n",
    "mask_a = (DF.day == \"2024-09-02\") & (DF.type != \"mokro\")\n",
    "mask_b = (DF.day == \"2024-09-02\") & (DF.type == \"mokro\")\n",
    "mask_c = (DF.day != \"2024-09-02\")\n",
    "DF_a = DF[mask_a]\n",
    "DF_b = DF[mask_b]\n",
    "DF_c = DF[mask_c]\n",
    "DF_full = pd.concat(\n",
    "    [DF_a.merge(df_final_penetro_moisture_a, how='left'),\n",
    "     DF_b.merge(df_final_penetro_moisture_b, how='left'),\n",
    "     DF_c.merge(df_final_penetro_moisture_c, how='left')\n",
    "    ])\n",
    "DF_full;\n",
    "    "
   ]
  },
  {
   "cell_type": "code",
   "execution_count": null,
   "id": "6040e36d-bc7c-4456-aa77-45828cf8fab1",
   "metadata": {
    "tags": []
   },
   "outputs": [],
   "source": [
    "# DF_full.loc[DF.day == \"2024-09-02\",[\"day\",\"type\",\"pressure\",\"w\"]]"
   ]
  },
  {
   "cell_type": "markdown",
   "id": "a0487665-262c-4292-9d21-82f947a5d135",
   "metadata": {},
   "source": [
    "# Dopočítání dalších sloupců\n",
    "\n",
    "* Označení stupně redukce, možnosti jsou True/False a stupně redukce 20 (po první redukci), 20+20 (po druhé redukci), 40 (obě redukce současně). Rozhodovací funkce je funkce `is_reduced` z knihovny `dynatree`.\n",
    "* Pro každý stupeň redukce se určí samostatně výška a poloha těžiště. Použije se vzorec s kvalifikovaným odhadem.\n",
    "* Vypočítají se parametry pro dynamické korelace."
   ]
  },
  {
   "cell_type": "code",
   "execution_count": null,
   "id": "890cadb5-e8f5-444b-9edf-7d1c5f2d7d87",
   "metadata": {},
   "outputs": [],
   "source": [
    "from dynatree.dynatree import is_reduced"
   ]
  },
  {
   "cell_type": "code",
   "execution_count": null,
   "id": "436c0ac5-0607-4eaa-81e1-5caacfe4c096",
   "metadata": {},
   "outputs": [],
   "source": [
    "for i in [\"20\", \"20+20\", \"40\"]:\n",
    "    DF_full[f\"reduction_{i}\"] = DF_full.apply(lambda row: is_reduced(tree=row[\"tree\"], day=row[\"day\"], method=row[\"type\"], reduction=i), axis=1)\n",
    "\n",
    "DF_full[\"CG\"] = DF_full[\"CG\"].astype(float)\n",
    "DF_full[\"height\"] = DF_full[\"height\"].astype(float)\n",
    "\n",
    "mask = DF_full[\"reduction_20\"] == True\n",
    "DF_full.loc[mask,\"height\"] = DF_full.loc[mask,\"height\"] * 0.8\n",
    "DF_full.loc[mask,\"CG\"] = DF_full.loc[mask,\"trunk_height\"] + 0.5 * (DF_full.loc[mask,\"height\"] - DF_full.loc[mask,\"trunk_height\"])\n",
    "\n",
    "mask = DF_full[\"reduction_20+20\"] == True\n",
    "DF_full.loc[mask,\"height\"] = DF_full.loc[mask,\"height\"] * 0.8 * 0.8\n",
    "DF_full.loc[mask,\"CG\"] = DF_full.loc[mask,\"trunk_height\"] + 0.5 * (DF_full.loc[mask,\"height\"] - DF_full.loc[mask,\"trunk_height\"])\n",
    "\n",
    "mask = DF_full[\"reduction_40\"] == True\n",
    "DF_full.loc[mask,\"height\"] = DF_full.loc[mask,\"height\"] * 0.6\n",
    "DF_full.loc[mask,\"CG\"] = DF_full.loc[mask,\"trunk_height\"] + 0.5 * (DF_full.loc[mask,\"height\"] - DF_full.loc[mask,\"trunk_height\"])\n",
    "\n"
   ]
  },
  {
   "cell_type": "code",
   "execution_count": null,
   "id": "3404f775-5f9c-4c2d-8177-eebc094f7ff4",
   "metadata": {
    "tags": []
   },
   "outputs": [],
   "source": [
    "lambda_i = 1.8751\n",
    "# DF_full[\"m\"] = DF_full[\"fresh_mass\"]\n",
    "DF_full[\"EdynL\"] = DF_full[\"CL\"]**2 * DF_full[\"dens_e\"]\n",
    "DF_full[\"Model1\"] = np.sqrt(1/DF_full[\"height\"])\n",
    "DF_full[\"Model1_CG\"] = np.sqrt(1/DF_full[\"CG\"])\n",
    "\n",
    "DF_full[\"Model2\"] = DF_full.DBH/DF_full.height**2\n",
    "DF_full[\"Model2_CG\"] = DF_full.DBH/DF_full.CG**2\n",
    "\n",
    "DF_full[\"I\"] = np.pi * DF_full[\"DBH\"]**4 / 64\n",
    "DF_full[\"Model3\"] = np.sqrt(DF_full[\"EdynL\"]*DF_full[\"I\"]/DF_full[\"fresh_mass\"]) \n",
    "DF_full[\"Model4\"] = DF_full[\"Model3\"] * lambda_i**2 / (2*np.pi*(DF_full[\"CG\"])**2)\n",
    "DF_full[\"Model5\"] = np.sqrt(DF_full[\"Model2\"])\n",
    "DF_full[\"Model6\"] = np.sqrt(DF_full.DBH/DF_full.CG**2/DF_full[\"fresh_mass\"])\n",
    "\n",
    "DF_full[\"slenderness_CG\"] = DF_full[\"DBH\"]/DF_full[\"CG\"]\n",
    "DF_full[\"slenderness_H\"] = DF_full[\"DBH\"]/DF_full[\"height\"]\n",
    "DF_full[\"m_CG^2\"] = DF_full[\"fresh_mass\"] * DF_full[\"CG\"]**2\n",
    "\n"
   ]
  },
  {
   "cell_type": "markdown",
   "id": "62bdf38a-7615-4067-b3fa-cb1843e765fc",
   "metadata": {},
   "source": [
    "# Uložit"
   ]
  },
  {
   "cell_type": "code",
   "execution_count": null,
   "id": "8f88a028-7114-488a-8605-42bbebf7a5bf",
   "metadata": {},
   "outputs": [],
   "source": [
    "# Failed FFT\n",
    "df_failed = pd.read_csv(failed_fft)\n",
    "\n",
    "# Sloupce pro porovnání\n",
    "keys = ['type', 'day', 'tree', 'measurement', 'probe']\n",
    "\n",
    "# Nastavení NaN pro odpovídající řádky\n",
    "DF_full.loc[DF_full.set_index(keys).index.isin(df_failed.set_index(keys).index), 'first_frequency'] = np.nan\n"
   ]
  },
  {
   "cell_type": "code",
   "execution_count": null,
   "id": "9e2ce462-9e09-4ef9-9cc1-bf7a6f80f747",
   "metadata": {},
   "outputs": [],
   "source": [
    "# Failed damping pro Elasto(90)\n",
    "import requests\n",
    "keys = ['type', 'day', 'tree', 'measurement', 'probe']\n",
    "response = requests.get(\"https://euler.mendelu.cz/gallery/api/all_comments/utlum\")\n",
    "data = response.json()\n",
    "df_failed = pd.DataFrame(data)\n",
    "df_failed = df_failed[\"comments\"].apply(pd.Series).drop([\"id\", \"directory\", \"text\"], axis=1)\n",
    "df_failed[[\"day\", \"type\", \"tree\", \"measurement\"]] = df_failed[\"image\"].str.split('_', expand=True)\n",
    "df_failed[\"measurement\"] = df_failed[\"measurement\"].str.replace(\".png\", \"\", regex=False)\n",
    "df_failed = df_failed.drop([\"image\"], axis=1)\n",
    "df_failed = df_failed.groupby(['day', 'type', 'tree', 'measurement']).max()\n",
    "df_failed = df_failed[df_failed[\"rating\"] <= 2]\n",
    "df_failed = df_failed.reset_index()\n",
    "df_failed[\"probe\"]='Elasto(90)'\n",
    "ldd_columns = [i for i in DF_full.columns if 'LDD' in i]\n",
    "DF_full.loc[DF_full.set_index(keys).index.isin(df_failed.set_index(keys).index), ldd_columns] = np.nan"
   ]
  },
  {
   "cell_type": "code",
   "execution_count": null,
   "id": "40aa2fab-00e5-4003-bbf3-ee6460dc023e",
   "metadata": {
    "tags": []
   },
   "outputs": [],
   "source": [
    "DF_full.to_csv(f\"{output_folder}/dynatree_data_merge.csv\")"
   ]
  },
  {
   "cell_type": "code",
   "execution_count": null,
   "id": "882ec0dc-6b48-4f27-af4a-e9b5475797a6",
   "metadata": {},
   "outputs": [],
   "source": []
  }
 ],
 "metadata": {
  "kernelspec": {
   "display_name": "Python 3 (ipykernel)",
   "language": "python",
   "name": "python3"
  },
  "language_info": {
   "codemirror_mode": {
    "name": "ipython",
    "version": 3
   },
   "file_extension": ".py",
   "mimetype": "text/x-python",
   "name": "python",
   "nbconvert_exporter": "python",
   "pygments_lexer": "ipython3",
   "version": "3.12.10"
  }
 },
 "nbformat": 4,
 "nbformat_minor": 5
}
