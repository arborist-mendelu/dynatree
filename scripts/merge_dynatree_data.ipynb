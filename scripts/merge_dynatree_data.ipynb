{
 "cells": [
  {
   "cell_type": "markdown",
   "id": "a71cba33-b12c-484c-8cdb-fec416db2841",
   "metadata": {},
   "source": [
    "# Načtení dat"
   ]
  },
  {
   "cell_type": "code",
   "execution_count": 1,
   "id": "1450e39a-1f5c-415a-b3e6-a5aa05a085a5",
   "metadata": {
    "execution": {
     "iopub.execute_input": "2025-02-27T16:04:21.795273Z",
     "iopub.status.busy": "2025-02-27T16:04:21.794407Z",
     "iopub.status.idle": "2025-02-27T16:04:22.431867Z",
     "shell.execute_reply": "2025-02-27T16:04:22.430542Z",
     "shell.execute_reply.started": "2025-02-27T16:04:21.795208Z"
    },
    "tags": []
   },
   "outputs": [],
   "source": [
    "import pandas as pd\n",
    "import numpy as np\n",
    "try:\n",
    "    # Pokud je konfigurační soubor, použij jej. Pro kompilaci pomocí snakemake nebo v příkazové řádce.\n",
    "    import config\n",
    "    source_path = config.merge['input_dir']\n",
    "    output_folder = config.merge['output_dir']\n",
    "except:\n",
    "    # Pokud není konfigurační soubor, použij následující nastavení. Pro kompilaci v Jupyteru.\n",
    "    source_path = \"https://euler.mendelu.cz/dynatree/static/public\"\n",
    "    output_folder = \".\"\n",
    "    "
   ]
  },
  {
   "cell_type": "code",
   "execution_count": 2,
   "id": "384937fd-9295-4f24-89cd-b51a8ca5686b",
   "metadata": {
    "execution": {
     "iopub.execute_input": "2025-02-27T16:04:22.434958Z",
     "iopub.status.busy": "2025-02-27T16:04:22.434528Z",
     "iopub.status.idle": "2025-02-27T16:04:22.910123Z",
     "shell.execute_reply": "2025-02-27T16:04:22.908519Z",
     "shell.execute_reply.started": "2025-02-27T16:04:22.434920Z"
    },
    "tags": []
   },
   "outputs": [],
   "source": [
    "df_description = pd.read_excel(f\"{source_path}/Popis_Babice_VSE.xlsx\",\n",
    "                              sheet_name=\"Prehledova tabulka_zakludaje\", index_col=1, nrows=14\n",
    "                              ).drop(0)\n",
    "df_description;"
   ]
  },
  {
   "cell_type": "code",
   "execution_count": 3,
   "id": "795d7bca-12b3-4842-a4d4-c8dba831539c",
   "metadata": {
    "execution": {
     "iopub.execute_input": "2025-02-27T16:04:22.912930Z",
     "iopub.status.busy": "2025-02-27T16:04:22.912221Z",
     "iopub.status.idle": "2025-02-27T16:04:23.046328Z",
     "shell.execute_reply": "2025-02-27T16:04:23.044690Z",
     "shell.execute_reply.started": "2025-02-27T16:04:22.912864Z"
    },
    "tags": []
   },
   "outputs": [],
   "source": [
    "df_dynamics = pd.read_csv(f\"{source_path}/FFT_csv_tukey.csv\").rename(columns={'peak':'first_frequency'})\n",
    "df_dynamics = df_dynamics[df_dynamics.probe.isin([\"blueMaj\",\"yellowMaj\",\"Elasto(90)\"])]\n",
    "df_dynamics = df_dynamics[df_dynamics.tree != \"JD18\"]\n",
    "df_dynamics;"
   ]
  },
  {
   "cell_type": "code",
   "execution_count": 4,
   "id": "917a9209-b205-427e-b864-69e949421586",
   "metadata": {
    "execution": {
     "iopub.execute_input": "2025-02-27T16:04:23.048863Z",
     "iopub.status.busy": "2025-02-27T16:04:23.048323Z",
     "iopub.status.idle": "2025-02-27T16:04:23.234322Z",
     "shell.execute_reply": "2025-02-27T16:04:23.232668Z",
     "shell.execute_reply.started": "2025-02-27T16:04:23.048802Z"
    },
    "tags": []
   },
   "outputs": [],
   "source": [
    "df_static = pd.read_csv(f\"{source_path}/anotated_regressions_static.csv\", index_col=0)\n",
    "df_static = df_static[~df_static.Dependent.isin([\"Force(100)\",\"M_Pt\"])]\n",
    "df_static = df_static[df_static.optics==False]\n",
    "df_static.Slope = np.abs(df_static.Slope)\n",
    "df_static = df_static[df_static.failed == False]\n",
    "df_static;"
   ]
  },
  {
   "cell_type": "code",
   "execution_count": 5,
   "id": "d578da7d-95b5-40b1-bfef-4ca7d10e0bd3",
   "metadata": {
    "execution": {
     "iopub.execute_input": "2025-02-27T16:04:23.236986Z",
     "iopub.status.busy": "2025-02-27T16:04:23.236416Z",
     "iopub.status.idle": "2025-02-27T16:04:23.352348Z",
     "shell.execute_reply": "2025-02-27T16:04:23.350298Z",
     "shell.execute_reply.started": "2025-02-27T16:04:23.236925Z"
    },
    "tags": []
   },
   "outputs": [],
   "source": [
    "# TODO: pridat Patrikovy data\n",
    "df_damping = pd.read_csv(f\"{source_path}/damping_factor.csv\")\n",
    "df_damping = df_damping[[\"type\", \"day\", \"tree\", \"probe\", \"measurement\"]+\n",
    "               [i for i in df_damping.columns if \"_LDD\" in i]]\n",
    "df_damping = df_damping[df_damping.tree != \"JD18\"]\n",
    "df_damping;"
   ]
  },
  {
   "cell_type": "code",
   "execution_count": 6,
   "id": "62ff2884-f1af-4f16-98c9-35b9855714a4",
   "metadata": {
    "execution": {
     "iopub.execute_input": "2025-02-27T16:04:23.355098Z",
     "iopub.status.busy": "2025-02-27T16:04:23.354529Z",
     "iopub.status.idle": "2025-02-27T16:04:23.567208Z",
     "shell.execute_reply": "2025-02-27T16:04:23.565532Z",
     "shell.execute_reply.started": "2025-02-27T16:04:23.355036Z"
    },
    "tags": []
   },
   "outputs": [],
   "source": [
    "df_vlhkosti = pd.read_csv(f\"{source_path}/vlhkosti_babice.csv\")\n",
    "df_sondy = pd.read_csv(f\"{source_path}/sondy_a_stromy.csv\")\n",
    "df_sondy;"
   ]
  },
  {
   "cell_type": "code",
   "execution_count": 7,
   "id": "460abb3d-787c-4ac9-8023-8fae8095c9c5",
   "metadata": {
    "execution": {
     "iopub.execute_input": "2025-02-27T16:04:23.573452Z",
     "iopub.status.busy": "2025-02-27T16:04:23.572856Z",
     "iopub.status.idle": "2025-02-27T16:04:23.722092Z",
     "shell.execute_reply": "2025-02-27T16:04:23.720501Z",
     "shell.execute_reply.started": "2025-02-27T16:04:23.573391Z"
    },
    "tags": []
   },
   "outputs": [],
   "source": [
    "df_penetrologger = pd.read_csv(f\"{source_path}/penetrologger.csv\")\n",
    "df_penetrologger;"
   ]
  },
  {
   "cell_type": "code",
   "execution_count": 8,
   "id": "d49a4e01-799b-4796-ae38-2f3fed92523c",
   "metadata": {
    "execution": {
     "iopub.execute_input": "2025-02-27T16:04:23.724690Z",
     "iopub.status.busy": "2025-02-27T16:04:23.724140Z",
     "iopub.status.idle": "2025-02-27T16:04:23.833742Z",
     "shell.execute_reply": "2025-02-27T16:04:23.832289Z",
     "shell.execute_reply.started": "2025-02-27T16:04:23.724630Z"
    },
    "tags": []
   },
   "outputs": [],
   "source": [
    "df_velocity = pd.read_csv(f\"{source_path}/velocity_babice_oprava.csv\")\n",
    "df_velocity = df_velocity[df_velocity[\"tree\"] != \"JD18\"]\n",
    "\n",
    "# ze dne odebrat hodiny\n",
    "df_velocity[\"day\"] = df_velocity[\"day\"].apply(lambda x:x.split( )[0])\n",
    "df_velocity = df_velocity.drop([\"day real\", \"day\"], axis=1) # odebrat nepotrebne sloupce\n",
    "df_velocity = df_velocity.groupby(\"tree\").mean().reset_index() # prumer za kazdy strom\n",
    "df_velocity;"
   ]
  },
  {
   "cell_type": "markdown",
   "id": "6ee919b0-64d1-4e68-9f2a-c8f134895fdb",
   "metadata": {},
   "source": [
    "# Dendrologické parametry"
   ]
  },
  {
   "cell_type": "code",
   "execution_count": 9,
   "id": "1b807695-816f-4cfd-b6fb-af3717bf903e",
   "metadata": {
    "execution": {
     "iopub.execute_input": "2025-02-27T16:04:23.837472Z",
     "iopub.status.busy": "2025-02-27T16:04:23.835842Z",
     "iopub.status.idle": "2025-02-27T16:04:23.850279Z",
     "shell.execute_reply": "2025-02-27T16:04:23.848401Z",
     "shell.execute_reply.started": "2025-02-27T16:04:23.837406Z"
    },
    "tags": []
   },
   "outputs": [],
   "source": [
    "rename_columns = {\n",
    "    'tree no:':'tree', \n",
    "    'mass Krejza fresh (kg):':\"fresh_mass\",\n",
    "    \"kategorie\":\"size_category\",\n",
    "    \"diameter at 1.3 m (cm):\":\"DBH\",\n",
    "    \"height (m):\": \"height\",\n",
    "    \"centre of gravity (m)*:\": \"CG\",\n",
    "    'trunk height (m):': \"trunk_height\"\n",
    "}\n",
    "df_final_description = df_description.rename(columns=rename_columns)[rename_columns.values()]\n",
    "df_final_description[\"tree\"] = df_final_description[\"tree\"].map(lambda x: f\"BK{x:02}\")\n",
    "\n",
    "df_final_description;"
   ]
  },
  {
   "cell_type": "markdown",
   "id": "66b72a30-0944-4cec-a34b-5e89f509b776",
   "metadata": {},
   "source": [
    "# Zpracování penetrologgeru a vlhkosti půdy\n",
    "\n",
    "Pro kazdy strom nebo a pro kazdy den najdeme jednu hodnotu reprezentujici mechanicke vlastnosti pudy. \n",
    "Najdeme median pres vsechny udaje pro danou hloubku, den a strom a pote pro dany den a strom median pro vsechnhy hloubky. \n",
    "Prvni krok zajisti, ze vsechny hloubky se budou brat stejnou vahou. Jinak by byla povrchova informace vice zastoupena. \n",
    "\n",
    "Pracujeme s hloubkou jenom do 15 cm. Tato hloubka byla urcena po vyhodnoceni dat.\n",
    "\n",
    "Pocita se podmineny median, pokud jsou k dispozici aspon tri hodnoty."
   ]
  },
  {
   "cell_type": "code",
   "execution_count": 10,
   "id": "e497362c-aeff-4c11-8a53-38846f510bb7",
   "metadata": {
    "execution": {
     "iopub.execute_input": "2025-02-27T16:04:23.853640Z",
     "iopub.status.busy": "2025-02-27T16:04:23.852461Z",
     "iopub.status.idle": "2025-02-27T16:04:24.377270Z",
     "shell.execute_reply": "2025-02-27T16:04:24.375886Z",
     "shell.execute_reply.started": "2025-02-27T16:04:23.853571Z"
    },
    "tags": []
   },
   "outputs": [],
   "source": [
    "last_column = 15\n",
    "\n",
    "df = df_penetrologger.copy()\n",
    "days = df[\"day\"].drop_duplicates()\n",
    "trees = df[\"tree\"].drop_duplicates()\n",
    "trees = [i for i in trees if (i!=\"JD18\") & (i!=\"BK25\")]\n",
    "df = df[df[\"tree\"].isin(trees)]\n",
    "\n",
    "df = df[~((df[\"tree\"] == \"BK10\") & (df[\"day\"] == \"2021-03-22\"))]\n",
    "df = df.drop([\"0\",\"směr\",\"poznámka\",\"PENETRATION DATA\"], axis=1)\n",
    "days = df[\"day\"].drop_duplicates().to_numpy()\n",
    "df = df.loc[:,:f\"{last_column}\"]\n",
    "\n",
    "\n",
    "# Funkce pro výpočet mediánu při alespoň 3 nenan hodnotách\n",
    "def conditional_median(row):\n",
    "    valid_values = row.dropna()  # Odstranění NaN hodnot\n",
    "    if len(valid_values) >= 3:\n",
    "        return valid_values.median()\n",
    "    return np.nan  # Pokud méně než 3 hodnoty, vrátí NaN\n",
    "\n",
    "\n",
    "df_means = df.groupby([\"day\",\"tree\"]).agg(conditional_median)\n",
    "df_final_penetro = df_means.median(axis=1, skipna=True)\n",
    "df_final_penetro.name=\"pressure\"\n",
    "df_final_penetro = df_final_penetro.reset_index()\n",
    "df_final_penetro;"
   ]
  },
  {
   "cell_type": "markdown",
   "id": "2d739c4b-09a3-42ff-8016-f25cad78bf25",
   "metadata": {
    "tags": []
   },
   "source": [
    "# Přidání vlhkostí k penetrologgeru\n",
    "\n",
    "Přidáváme první dva horizonty`"
   ]
  },
  {
   "cell_type": "code",
   "execution_count": 11,
   "id": "49f4380a-785e-4b7a-b103-598af9984572",
   "metadata": {
    "execution": {
     "iopub.execute_input": "2025-02-27T16:04:24.379167Z",
     "iopub.status.busy": "2025-02-27T16:04:24.378818Z",
     "iopub.status.idle": "2025-02-27T16:04:24.390313Z",
     "shell.execute_reply": "2025-02-27T16:04:24.388884Z",
     "shell.execute_reply.started": "2025-02-27T16:04:24.379128Z"
    },
    "tags": []
   },
   "outputs": [],
   "source": [
    "df_m = df_vlhkosti.copy()\n",
    "df_m = df_m [[\"vzorek\",\"hmotnostní vlhkost  w\", \"den\"]]\n",
    "df_m.columns = [\"vzorek\",\"w\", \"den\"]\n",
    "# ve soupci vzorek rozdelit zapisy typu 1A na dva sloupce, sonda a horizont.\n",
    "df_m[\"horizont\"] = df_m[\"vzorek\"].apply(lambda x: x[-1])\n",
    "df_m[\"sonda\"] = df_m[\"vzorek\"].apply(lambda x: x[:-1]).astype(int)\n",
    "\n",
    "# načtení tabulky pro převod mezi stromy a sondami\n",
    "sondy = df_sondy\n",
    "sondy;"
   ]
  },
  {
   "cell_type": "code",
   "execution_count": 12,
   "id": "ef1f3e1c-f745-4892-8110-96955aee4d70",
   "metadata": {
    "execution": {
     "iopub.execute_input": "2025-02-27T16:04:24.391548Z",
     "iopub.status.busy": "2025-02-27T16:04:24.391224Z",
     "iopub.status.idle": "2025-02-27T16:04:24.409523Z",
     "shell.execute_reply": "2025-02-27T16:04:24.408193Z",
     "shell.execute_reply.started": "2025-02-27T16:04:24.391511Z"
    },
    "tags": []
   },
   "outputs": [],
   "source": [
    "sondy[\"strom\"] = sondy[\"strom\"].apply(lambda x: \"JD18\" if x==18 else f\"BK{x:02}\")\n",
    "df_m = df_m.merge(sondy, on='sonda', how='left')\n",
    "\n",
    "# df_m = df_m[df_m[\"strom\"]!=\"JD18\"]\n",
    "# df_m[df_m[\"den\"]==\"2021-03-22\"]\n",
    "\n",
    "df_m = (df_m[df_m[\"horizont\"]\n",
    "        .isin([\"A\",\"B\"])]  # vybere prvni dva horizonty\n",
    "        .drop([\"vzorek\", \"horizont\",\"sonda\"], axis=1) # vynechat sloupce\n",
    "        .groupby([\"den\",\"strom\"]).mean()   # prumer \n",
    "        .reset_index()\n",
    "       )\n",
    "df_m.columns = [\"day\",\"tree\",\"w\"]\n",
    "# df_m[df_m[\"day\"]==\"2021-03-22\"]"
   ]
  },
  {
   "cell_type": "code",
   "execution_count": 13,
   "id": "2d918dba-0429-4c14-9490-c013d518fe14",
   "metadata": {
    "execution": {
     "iopub.execute_input": "2025-02-27T16:04:24.411037Z",
     "iopub.status.busy": "2025-02-27T16:04:24.410713Z",
     "iopub.status.idle": "2025-02-27T16:04:24.424346Z",
     "shell.execute_reply": "2025-02-27T16:04:24.423100Z",
     "shell.execute_reply.started": "2025-02-27T16:04:24.410999Z"
    },
    "tags": []
   },
   "outputs": [],
   "source": [
    "df_final_penetro_moisture = df_final_penetro.merge(df_m, on=[\"day\",\"tree\"], how='outer')\n",
    "df_final_penetro_moisture = df_final_penetro_moisture[df_final_penetro_moisture.tree != \"JD18\"]\n",
    "df_final_penetro_moisture;"
   ]
  },
  {
   "cell_type": "markdown",
   "id": "4a88cafe-7856-40f2-ace2-08fc0b2606ec",
   "metadata": {},
   "source": [
    "Data rozdelit na tri skupiny, protoze se opakuje datum:\n",
    "\n",
    "a) 2024-09-02, b) 2024-29-20_mokro a c) zbytek\n",
    "\n",
    "skupina c) se bude slucovat podle datumu, skupiny a) a b) podle datumu a typu mereni.\n"
   ]
  },
  {
   "cell_type": "code",
   "execution_count": 14,
   "id": "6aa7cf8c-3c24-4a8e-bb2b-785ff2f81a23",
   "metadata": {
    "execution": {
     "iopub.execute_input": "2025-02-27T16:04:24.425770Z",
     "iopub.status.busy": "2025-02-27T16:04:24.425453Z",
     "iopub.status.idle": "2025-02-27T16:04:24.443481Z",
     "shell.execute_reply": "2025-02-27T16:04:24.442113Z",
     "shell.execute_reply.started": "2025-02-27T16:04:24.425733Z"
    },
    "tags": []
   },
   "outputs": [],
   "source": [
    "a = df_final_penetro_moisture[df_final_penetro_moisture.day == \"2024-09-02\"]\n",
    "b = df_final_penetro_moisture[df_final_penetro_moisture.day == \"2024-09-02_mokro\"]\n",
    "c = df_final_penetro_moisture[~df_final_penetro_moisture.day.isin([\"2024-09-02\",\"2024-09-02_mokro\"])]\n",
    "b.loc[:,[\"day\",\"type\"]] = [\"2024-09-02\", \"mokro\"]\n",
    "df_final_penetro_moisture_a = a.merge(pd.DataFrame({'day':[\"2024-09-02\"]*2, 'type':[\"normal\",\"afterro2\"]}), how='left')\n",
    "df_final_penetro_moisture_b = b\n",
    "df_final_penetro_moisture_c = c"
   ]
  },
  {
   "cell_type": "markdown",
   "id": "a70c93cf-ea72-4945-96ad-7d7c324aae8b",
   "metadata": {},
   "source": [
    "# Tahovky převést na camera/nocamera"
   ]
  },
  {
   "cell_type": "code",
   "execution_count": 15,
   "id": "7ebc4dfd-9d3d-49f4-a178-7ee994ebc9bb",
   "metadata": {
    "execution": {
     "iopub.execute_input": "2025-02-27T16:04:24.445444Z",
     "iopub.status.busy": "2025-02-27T16:04:24.445091Z",
     "iopub.status.idle": "2025-02-27T16:04:24.484205Z",
     "shell.execute_reply": "2025-02-27T16:04:24.482477Z",
     "shell.execute_reply.started": "2025-02-27T16:04:24.445403Z"
    },
    "tags": []
   },
   "outputs": [],
   "source": [
    "# Limity jsou stanoveny podle analýzy dat pomocí DBSCAN a IQR\n",
    "R2_limit_M = 0.95\n",
    "R2_limit_M_Elasto = 0.97\n",
    "\n",
    "df_tahovky = df_static.copy()  # zkopirovat si, aby zustala i puvodni data\n",
    "df_tahovky = df_tahovky[df_tahovky[\"Dependent\"] != \"M_Pt\"]  # vynechat optiku\n",
    "df_tahovky = df_tahovky[df_tahovky[\"Dependent\"] != \"Force(100)\"]  # vynechat siloměr\n",
    "df_tahovky = df_tahovky[df_tahovky[\"tree\"] != \"JD18\"]  # vynechat jedličku\n",
    "df_tahovky = df_tahovky[~df_tahovky[\"Slope\"].isna()]  # nesmí být nan v Slope\n",
    "df_tahovky = df_tahovky[df_tahovky[\"optics\"] == False] # vynechat optiku, pro jistotu ještě jednou\n",
    "\n",
    "# odfiltrovat spatne R^2 podle vysledku DBSCAN a hlavne IQR\n",
    "mask = (df_tahovky[\"Dependent\"] == \"M\") & (df_tahovky[\"R^2\"] < R2_limit_M)\n",
    "df_tahovky = df_tahovky[~mask]\n",
    "mask = (df_tahovky[\"Dependent\"] == \"M_Elasto\") & (df_tahovky[\"R^2\"] < R2_limit_M_Elasto)\n",
    "df_tahovky = df_tahovky[~mask]\n",
    "\n",
    "df_tahovky[\"probe\"] = df_tahovky[\"Independent\"].apply(lambda x: \"Elasto(90)\" if x==\"Elasto-strain\" else x)\n",
    "\n",
    "# Nastaveni Camera/NoCamera. Nechat i puvodni kvuli slucovani dat\n",
    "mask = df_tahovky[\"probe\"].isin([\"blueMaj\", \"yellowMaj\"])   # radky s inklinometry\n",
    "df_tahovky.loc[:,\"probeCam\"] = df_tahovky[\"probe\"]\n",
    "df_tahovky.loc[mask,\"probeCam\"] = df_tahovky.loc[mask,\"kamera\"].apply(lambda x: \"InclinoCamera\" if x is True else \"InclinoNoCamera\" if x is False else x)  # prejmenovani\n",
    "\n",
    "df_tahovky = df_tahovky[[\"type\",\"day\",\"tree\",\"probe\", \"probeCam\",\"measurement\",\"pullNo\",\"Slope\"]]\n",
    "\n",
    "# Slope kazdeho inklinometru do samostatneho sloupce\n",
    "probes = [\"InclinoNoCamera\", \"InclinoCamera\", \"Elasto(90)\"]\n",
    "columns = [\"slope_root_stiff_nocam\", \"slope_root_stiff_cam\", \"slope_stem_stiff\"]\n",
    "for probe, column in zip(probes, columns):\n",
    "    mask = df_tahovky[\"probeCam\"]==probe\n",
    "    df_tahovky.loc[mask, column] = df_tahovky.loc[mask,\"Slope\"]\n",
    "df_tahovky;"
   ]
  },
  {
   "cell_type": "markdown",
   "id": "00090b7a-7319-4e39-9764-8b484d389c00",
   "metadata": {},
   "source": [
    "# Finální spojení\n",
    "\n",
    "TODO\n",
    "\n",
    "* Co znamená v mých poznámkách (Robert) Sapflow se tremi vykricniky?\n",
    "* Dodat data od Patrika pro damping pomocí FFT\n",
    "* leaves True/False"
   ]
  },
  {
   "cell_type": "code",
   "execution_count": 16,
   "id": "7b8863da-48b7-4e06-8fa5-74e534c7e89b",
   "metadata": {
    "execution": {
     "iopub.execute_input": "2025-02-27T16:04:24.486638Z",
     "iopub.status.busy": "2025-02-27T16:04:24.486073Z",
     "iopub.status.idle": "2025-02-27T16:04:24.493360Z",
     "shell.execute_reply": "2025-02-27T16:04:24.491840Z",
     "shell.execute_reply.started": "2025-02-27T16:04:24.486576Z"
    },
    "tags": []
   },
   "outputs": [],
   "source": [
    "# df_final_penetro_moisture_a\n",
    "# df_final_penetro_moisture_b\n",
    "# df_final_penetro_moisture_c\n",
    "# df_final_description\n",
    "# df_velocity\n",
    "# df_damping\n",
    "# df_tahovky\n",
    "# df_dynamics"
   ]
  },
  {
   "cell_type": "code",
   "execution_count": 17,
   "id": "a66e63e4-02cf-4965-bcd8-816594022ce7",
   "metadata": {
    "execution": {
     "iopub.execute_input": "2025-02-27T16:04:24.495604Z",
     "iopub.status.busy": "2025-02-27T16:04:24.495065Z",
     "iopub.status.idle": "2025-02-27T16:04:24.512538Z",
     "shell.execute_reply": "2025-02-27T16:04:24.511221Z",
     "shell.execute_reply.started": "2025-02-27T16:04:24.495545Z"
    },
    "tags": []
   },
   "outputs": [
    {
     "data": {
      "text/plain": [
       "((2548, 11),\n",
       " (1374, 6),\n",
       " ['type', 'day', 'tree', 'probe', 'measurement'],\n",
       " ['type', 'day', 'tree', 'measurement', 'probe'])"
      ]
     },
     "execution_count": 17,
     "metadata": {},
     "output_type": "execute_result"
    }
   ],
   "source": [
    "(df_tahovky.shape, \n",
    " df_dynamics.shape, \n",
    " [i for i in df_tahovky.columns if i in df_dynamics.columns],\n",
    " [i for i in df_dynamics.columns if i in df_tahovky.columns]\n",
    ")"
   ]
  },
  {
   "cell_type": "code",
   "execution_count": 18,
   "id": "e26b56f6-d899-4fdc-8a4d-4e4fd9c4f64c",
   "metadata": {
    "execution": {
     "iopub.execute_input": "2025-02-27T16:04:24.515373Z",
     "iopub.status.busy": "2025-02-27T16:04:24.514341Z",
     "iopub.status.idle": "2025-02-27T16:04:24.545181Z",
     "shell.execute_reply": "2025-02-27T16:04:24.543752Z",
     "shell.execute_reply.started": "2025-02-27T16:04:24.515310Z"
    },
    "tags": []
   },
   "outputs": [
    {
     "data": {
      "text/plain": [
       "(2727, 12)"
      ]
     },
     "execution_count": 18,
     "metadata": {},
     "output_type": "execute_result"
    }
   ],
   "source": [
    "# spojit tahovky a dynamiku pres spolecne sloupce\n",
    "# 'type', 'day', 'tree', 'measurement', 'probe'\n",
    "# Rozmery uplne nesedi, protoze tahovky nekdy byly vyhozeny a dynamika ne, nebo naopak.\n",
    "DF = df_tahovky.merge(df_dynamics, how='outer')\n",
    "DF.shape"
   ]
  },
  {
   "cell_type": "code",
   "execution_count": 19,
   "id": "81f8cc85-3981-4c88-92d9-b38d9ad4fa92",
   "metadata": {
    "execution": {
     "iopub.execute_input": "2025-02-27T16:04:24.548087Z",
     "iopub.status.busy": "2025-02-27T16:04:24.547528Z",
     "iopub.status.idle": "2025-02-27T16:04:24.557533Z",
     "shell.execute_reply": "2025-02-27T16:04:24.556122Z",
     "shell.execute_reply.started": "2025-02-27T16:04:24.548025Z"
    },
    "tags": []
   },
   "outputs": [
    {
     "data": {
      "text/plain": [
       "['tree']"
      ]
     },
     "execution_count": 19,
     "metadata": {},
     "output_type": "execute_result"
    }
   ],
   "source": [
    "[i for i in DF if i in df_final_description]"
   ]
  },
  {
   "cell_type": "code",
   "execution_count": 20,
   "id": "881fb493-5625-403a-a920-87f676d07257",
   "metadata": {
    "execution": {
     "iopub.execute_input": "2025-02-27T16:04:24.561333Z",
     "iopub.status.busy": "2025-02-27T16:04:24.559810Z",
     "iopub.status.idle": "2025-02-27T16:04:24.646860Z",
     "shell.execute_reply": "2025-02-27T16:04:24.645290Z",
     "shell.execute_reply.started": "2025-02-27T16:04:24.561269Z"
    },
    "tags": []
   },
   "outputs": [],
   "source": [
    "# Pridat popis stromu, rozmery, dendroparametry\n",
    "DF = DF.merge(df_final_description, how='left')\n",
    "DF;"
   ]
  },
  {
   "cell_type": "code",
   "execution_count": 21,
   "id": "6fb5824e-c0cb-449f-8d34-5a13b566b81e",
   "metadata": {
    "execution": {
     "iopub.execute_input": "2025-02-27T16:04:24.649271Z",
     "iopub.status.busy": "2025-02-27T16:04:24.648733Z",
     "iopub.status.idle": "2025-02-27T16:04:24.664837Z",
     "shell.execute_reply": "2025-02-27T16:04:24.663031Z",
     "shell.execute_reply.started": "2025-02-27T16:04:24.649210Z"
    },
    "tags": []
   },
   "outputs": [],
   "source": [
    "# Pridat rychlosti a data od Janka. Data pro strom. \n",
    "DF = DF.merge(df_velocity, how='left')"
   ]
  },
  {
   "cell_type": "code",
   "execution_count": 22,
   "id": "acb5d1b9-8fb7-477e-9012-d2596498e8f3",
   "metadata": {
    "execution": {
     "iopub.execute_input": "2025-02-27T16:04:24.672661Z",
     "iopub.status.busy": "2025-02-27T16:04:24.672095Z",
     "iopub.status.idle": "2025-02-27T16:04:24.679049Z",
     "shell.execute_reply": "2025-02-27T16:04:24.677586Z",
     "shell.execute_reply.started": "2025-02-27T16:04:24.672599Z"
    },
    "tags": []
   },
   "outputs": [],
   "source": [
    "DF;"
   ]
  },
  {
   "cell_type": "code",
   "execution_count": 23,
   "id": "dd7ae643-66cb-4a6f-af83-baa83917dc63",
   "metadata": {
    "execution": {
     "iopub.execute_input": "2025-02-27T16:04:24.681450Z",
     "iopub.status.busy": "2025-02-27T16:04:24.680913Z",
     "iopub.status.idle": "2025-02-27T16:04:24.689901Z",
     "shell.execute_reply": "2025-02-27T16:04:24.688416Z",
     "shell.execute_reply.started": "2025-02-27T16:04:24.681392Z"
    },
    "tags": []
   },
   "outputs": [],
   "source": [
    "[i for i in DF.columns if i in df_damping.columns], [i for i in df_damping.columns if i in DF.columns];"
   ]
  },
  {
   "cell_type": "code",
   "execution_count": 24,
   "id": "0c5d9884-b73d-4bbe-993f-317d189d31e0",
   "metadata": {
    "execution": {
     "iopub.execute_input": "2025-02-27T16:04:24.692153Z",
     "iopub.status.busy": "2025-02-27T16:04:24.691608Z",
     "iopub.status.idle": "2025-02-27T16:04:24.710819Z",
     "shell.execute_reply": "2025-02-27T16:04:24.709319Z",
     "shell.execute_reply.started": "2025-02-27T16:04:24.692093Z"
    },
    "tags": []
   },
   "outputs": [],
   "source": [
    "# pridat tlumeni podle poli ['type', 'day', 'tree', 'probe', 'measurement']\n",
    "DF = DF.merge(df_damping, how='left')"
   ]
  },
  {
   "cell_type": "code",
   "execution_count": 25,
   "id": "52731213-6a78-43c6-af77-9b2dd5a1619c",
   "metadata": {
    "execution": {
     "iopub.execute_input": "2025-02-27T16:04:24.713382Z",
     "iopub.status.busy": "2025-02-27T16:04:24.712748Z",
     "iopub.status.idle": "2025-02-27T16:04:24.799602Z",
     "shell.execute_reply": "2025-02-27T16:04:24.798039Z",
     "shell.execute_reply.started": "2025-02-27T16:04:24.713318Z"
    },
    "tags": []
   },
   "outputs": [
    {
     "data": {
      "text/html": [
       "<div>\n",
       "<style scoped>\n",
       "    .dataframe tbody tr th:only-of-type {\n",
       "        vertical-align: middle;\n",
       "    }\n",
       "\n",
       "    .dataframe tbody tr th {\n",
       "        vertical-align: top;\n",
       "    }\n",
       "\n",
       "    .dataframe thead th {\n",
       "        text-align: right;\n",
       "    }\n",
       "</style>\n",
       "<table border=\"1\" class=\"dataframe\">\n",
       "  <thead>\n",
       "    <tr style=\"text-align: right;\">\n",
       "      <th></th>\n",
       "      <th>type</th>\n",
       "      <th>day</th>\n",
       "      <th>tree</th>\n",
       "      <th>probe</th>\n",
       "      <th>probeCam</th>\n",
       "      <th>measurement</th>\n",
       "      <th>pullNo</th>\n",
       "      <th>Slope</th>\n",
       "      <th>slope_root_stiff_nocam</th>\n",
       "      <th>slope_root_stiff_cam</th>\n",
       "      <th>...</th>\n",
       "      <th>w_all</th>\n",
       "      <th>dens_e</th>\n",
       "      <th>w_e</th>\n",
       "      <th>maxima_LDD</th>\n",
       "      <th>hilbert_LDD</th>\n",
       "      <th>wavelet_LDD</th>\n",
       "      <th>def_LDD</th>\n",
       "      <th>defmulti_LDD</th>\n",
       "      <th>pressure</th>\n",
       "      <th>w</th>\n",
       "    </tr>\n",
       "  </thead>\n",
       "  <tbody>\n",
       "    <tr>\n",
       "      <th>0</th>\n",
       "      <td>afterro2</td>\n",
       "      <td>2024-09-02</td>\n",
       "      <td>BK01</td>\n",
       "      <td>Elasto(90)</td>\n",
       "      <td>Elasto(90)</td>\n",
       "      <td>M01</td>\n",
       "      <td>0.0</td>\n",
       "      <td>195667.632503</td>\n",
       "      <td>NaN</td>\n",
       "      <td>NaN</td>\n",
       "      <td>...</td>\n",
       "      <td>66.263333</td>\n",
       "      <td>1046.383333</td>\n",
       "      <td>65.773333</td>\n",
       "      <td>NaN</td>\n",
       "      <td>NaN</td>\n",
       "      <td>NaN</td>\n",
       "      <td>NaN</td>\n",
       "      <td>NaN</td>\n",
       "      <td>4.2</td>\n",
       "      <td>8.262565</td>\n",
       "    </tr>\n",
       "    <tr>\n",
       "      <th>1</th>\n",
       "      <td>afterro2</td>\n",
       "      <td>2024-09-02</td>\n",
       "      <td>BK01</td>\n",
       "      <td>Elasto(90)</td>\n",
       "      <td>Elasto(90)</td>\n",
       "      <td>M01</td>\n",
       "      <td>1.0</td>\n",
       "      <td>197627.290150</td>\n",
       "      <td>NaN</td>\n",
       "      <td>NaN</td>\n",
       "      <td>...</td>\n",
       "      <td>66.263333</td>\n",
       "      <td>1046.383333</td>\n",
       "      <td>65.773333</td>\n",
       "      <td>NaN</td>\n",
       "      <td>NaN</td>\n",
       "      <td>NaN</td>\n",
       "      <td>NaN</td>\n",
       "      <td>NaN</td>\n",
       "      <td>4.2</td>\n",
       "      <td>8.262565</td>\n",
       "    </tr>\n",
       "    <tr>\n",
       "      <th>2</th>\n",
       "      <td>afterro2</td>\n",
       "      <td>2024-09-02</td>\n",
       "      <td>BK01</td>\n",
       "      <td>Elasto(90)</td>\n",
       "      <td>Elasto(90)</td>\n",
       "      <td>M01</td>\n",
       "      <td>2.0</td>\n",
       "      <td>197600.175867</td>\n",
       "      <td>NaN</td>\n",
       "      <td>NaN</td>\n",
       "      <td>...</td>\n",
       "      <td>66.263333</td>\n",
       "      <td>1046.383333</td>\n",
       "      <td>65.773333</td>\n",
       "      <td>NaN</td>\n",
       "      <td>NaN</td>\n",
       "      <td>NaN</td>\n",
       "      <td>NaN</td>\n",
       "      <td>NaN</td>\n",
       "      <td>4.2</td>\n",
       "      <td>8.262565</td>\n",
       "    </tr>\n",
       "    <tr>\n",
       "      <th>3</th>\n",
       "      <td>afterro2</td>\n",
       "      <td>2024-09-02</td>\n",
       "      <td>BK01</td>\n",
       "      <td>Elasto(90)</td>\n",
       "      <td>Elasto(90)</td>\n",
       "      <td>M02</td>\n",
       "      <td>0.0</td>\n",
       "      <td>185751.348242</td>\n",
       "      <td>NaN</td>\n",
       "      <td>NaN</td>\n",
       "      <td>...</td>\n",
       "      <td>66.263333</td>\n",
       "      <td>1046.383333</td>\n",
       "      <td>65.773333</td>\n",
       "      <td>0.466268</td>\n",
       "      <td>0.457841</td>\n",
       "      <td>0.372547</td>\n",
       "      <td>0.436636</td>\n",
       "      <td>0.451026</td>\n",
       "      <td>4.2</td>\n",
       "      <td>8.262565</td>\n",
       "    </tr>\n",
       "    <tr>\n",
       "      <th>4</th>\n",
       "      <td>afterro2</td>\n",
       "      <td>2024-09-02</td>\n",
       "      <td>BK01</td>\n",
       "      <td>Elasto(90)</td>\n",
       "      <td>Elasto(90)</td>\n",
       "      <td>M03</td>\n",
       "      <td>0.0</td>\n",
       "      <td>199603.985111</td>\n",
       "      <td>NaN</td>\n",
       "      <td>NaN</td>\n",
       "      <td>...</td>\n",
       "      <td>66.263333</td>\n",
       "      <td>1046.383333</td>\n",
       "      <td>65.773333</td>\n",
       "      <td>0.434982</td>\n",
       "      <td>0.434297</td>\n",
       "      <td>0.356758</td>\n",
       "      <td>0.431574</td>\n",
       "      <td>0.428556</td>\n",
       "      <td>4.2</td>\n",
       "      <td>8.262565</td>\n",
       "    </tr>\n",
       "    <tr>\n",
       "      <th>...</th>\n",
       "      <td>...</td>\n",
       "      <td>...</td>\n",
       "      <td>...</td>\n",
       "      <td>...</td>\n",
       "      <td>...</td>\n",
       "      <td>...</td>\n",
       "      <td>...</td>\n",
       "      <td>...</td>\n",
       "      <td>...</td>\n",
       "      <td>...</td>\n",
       "      <td>...</td>\n",
       "      <td>...</td>\n",
       "      <td>...</td>\n",
       "      <td>...</td>\n",
       "      <td>...</td>\n",
       "      <td>...</td>\n",
       "      <td>...</td>\n",
       "      <td>...</td>\n",
       "      <td>...</td>\n",
       "      <td>...</td>\n",
       "      <td>...</td>\n",
       "    </tr>\n",
       "    <tr>\n",
       "      <th>2184</th>\n",
       "      <td>normal</td>\n",
       "      <td>2024-04-10</td>\n",
       "      <td>BK24</td>\n",
       "      <td>yellowMaj</td>\n",
       "      <td>InclinoCamera</td>\n",
       "      <td>M01</td>\n",
       "      <td>2.0</td>\n",
       "      <td>754.643477</td>\n",
       "      <td>NaN</td>\n",
       "      <td>754.643477</td>\n",
       "      <td>...</td>\n",
       "      <td>50.200000</td>\n",
       "      <td>1089.006667</td>\n",
       "      <td>54.566667</td>\n",
       "      <td>NaN</td>\n",
       "      <td>NaN</td>\n",
       "      <td>NaN</td>\n",
       "      <td>NaN</td>\n",
       "      <td>NaN</td>\n",
       "      <td>1.3</td>\n",
       "      <td>38.149670</td>\n",
       "    </tr>\n",
       "    <tr>\n",
       "      <th>2185</th>\n",
       "      <td>normal</td>\n",
       "      <td>2024-04-10</td>\n",
       "      <td>BK24</td>\n",
       "      <td>yellowMaj</td>\n",
       "      <td>InclinoCamera</td>\n",
       "      <td>M02</td>\n",
       "      <td>0.0</td>\n",
       "      <td>741.903050</td>\n",
       "      <td>NaN</td>\n",
       "      <td>741.903050</td>\n",
       "      <td>...</td>\n",
       "      <td>50.200000</td>\n",
       "      <td>1089.006667</td>\n",
       "      <td>54.566667</td>\n",
       "      <td>NaN</td>\n",
       "      <td>NaN</td>\n",
       "      <td>NaN</td>\n",
       "      <td>NaN</td>\n",
       "      <td>NaN</td>\n",
       "      <td>1.3</td>\n",
       "      <td>38.149670</td>\n",
       "    </tr>\n",
       "    <tr>\n",
       "      <th>2186</th>\n",
       "      <td>normal</td>\n",
       "      <td>2024-04-10</td>\n",
       "      <td>BK24</td>\n",
       "      <td>yellowMaj</td>\n",
       "      <td>InclinoCamera</td>\n",
       "      <td>M03</td>\n",
       "      <td>0.0</td>\n",
       "      <td>690.372862</td>\n",
       "      <td>NaN</td>\n",
       "      <td>690.372862</td>\n",
       "      <td>...</td>\n",
       "      <td>50.200000</td>\n",
       "      <td>1089.006667</td>\n",
       "      <td>54.566667</td>\n",
       "      <td>NaN</td>\n",
       "      <td>NaN</td>\n",
       "      <td>NaN</td>\n",
       "      <td>NaN</td>\n",
       "      <td>NaN</td>\n",
       "      <td>1.3</td>\n",
       "      <td>38.149670</td>\n",
       "    </tr>\n",
       "    <tr>\n",
       "      <th>2187</th>\n",
       "      <td>normal</td>\n",
       "      <td>2024-04-10</td>\n",
       "      <td>BK24</td>\n",
       "      <td>yellowMaj</td>\n",
       "      <td>InclinoCamera</td>\n",
       "      <td>M04</td>\n",
       "      <td>0.0</td>\n",
       "      <td>714.670399</td>\n",
       "      <td>NaN</td>\n",
       "      <td>714.670399</td>\n",
       "      <td>...</td>\n",
       "      <td>50.200000</td>\n",
       "      <td>1089.006667</td>\n",
       "      <td>54.566667</td>\n",
       "      <td>NaN</td>\n",
       "      <td>NaN</td>\n",
       "      <td>NaN</td>\n",
       "      <td>NaN</td>\n",
       "      <td>NaN</td>\n",
       "      <td>1.3</td>\n",
       "      <td>38.149670</td>\n",
       "    </tr>\n",
       "    <tr>\n",
       "      <th>2188</th>\n",
       "      <td>normal</td>\n",
       "      <td>2024-04-10</td>\n",
       "      <td>BK24</td>\n",
       "      <td>yellowMaj</td>\n",
       "      <td>InclinoCamera</td>\n",
       "      <td>M05</td>\n",
       "      <td>0.0</td>\n",
       "      <td>681.015661</td>\n",
       "      <td>NaN</td>\n",
       "      <td>681.015661</td>\n",
       "      <td>...</td>\n",
       "      <td>50.200000</td>\n",
       "      <td>1089.006667</td>\n",
       "      <td>54.566667</td>\n",
       "      <td>NaN</td>\n",
       "      <td>NaN</td>\n",
       "      <td>NaN</td>\n",
       "      <td>NaN</td>\n",
       "      <td>NaN</td>\n",
       "      <td>1.3</td>\n",
       "      <td>38.149670</td>\n",
       "    </tr>\n",
       "  </tbody>\n",
       "</table>\n",
       "<p>2727 rows × 32 columns</p>\n",
       "</div>"
      ],
      "text/plain": [
       "          type         day  tree       probe       probeCam measurement  \\\n",
       "0     afterro2  2024-09-02  BK01  Elasto(90)     Elasto(90)         M01   \n",
       "1     afterro2  2024-09-02  BK01  Elasto(90)     Elasto(90)         M01   \n",
       "2     afterro2  2024-09-02  BK01  Elasto(90)     Elasto(90)         M01   \n",
       "3     afterro2  2024-09-02  BK01  Elasto(90)     Elasto(90)         M02   \n",
       "4     afterro2  2024-09-02  BK01  Elasto(90)     Elasto(90)         M03   \n",
       "...        ...         ...   ...         ...            ...         ...   \n",
       "2184    normal  2024-04-10  BK24   yellowMaj  InclinoCamera         M01   \n",
       "2185    normal  2024-04-10  BK24   yellowMaj  InclinoCamera         M02   \n",
       "2186    normal  2024-04-10  BK24   yellowMaj  InclinoCamera         M03   \n",
       "2187    normal  2024-04-10  BK24   yellowMaj  InclinoCamera         M04   \n",
       "2188    normal  2024-04-10  BK24   yellowMaj  InclinoCamera         M05   \n",
       "\n",
       "      pullNo          Slope  slope_root_stiff_nocam  slope_root_stiff_cam  \\\n",
       "0        0.0  195667.632503                     NaN                   NaN   \n",
       "1        1.0  197627.290150                     NaN                   NaN   \n",
       "2        2.0  197600.175867                     NaN                   NaN   \n",
       "3        0.0  185751.348242                     NaN                   NaN   \n",
       "4        0.0  199603.985111                     NaN                   NaN   \n",
       "...      ...            ...                     ...                   ...   \n",
       "2184     2.0     754.643477                     NaN            754.643477   \n",
       "2185     0.0     741.903050                     NaN            741.903050   \n",
       "2186     0.0     690.372862                     NaN            690.372862   \n",
       "2187     0.0     714.670399                     NaN            714.670399   \n",
       "2188     0.0     681.015661                     NaN            681.015661   \n",
       "\n",
       "      ...      w_all       dens_e        w_e maxima_LDD  hilbert_LDD  \\\n",
       "0     ...  66.263333  1046.383333  65.773333        NaN          NaN   \n",
       "1     ...  66.263333  1046.383333  65.773333        NaN          NaN   \n",
       "2     ...  66.263333  1046.383333  65.773333        NaN          NaN   \n",
       "3     ...  66.263333  1046.383333  65.773333   0.466268     0.457841   \n",
       "4     ...  66.263333  1046.383333  65.773333   0.434982     0.434297   \n",
       "...   ...        ...          ...        ...        ...          ...   \n",
       "2184  ...  50.200000  1089.006667  54.566667        NaN          NaN   \n",
       "2185  ...  50.200000  1089.006667  54.566667        NaN          NaN   \n",
       "2186  ...  50.200000  1089.006667  54.566667        NaN          NaN   \n",
       "2187  ...  50.200000  1089.006667  54.566667        NaN          NaN   \n",
       "2188  ...  50.200000  1089.006667  54.566667        NaN          NaN   \n",
       "\n",
       "      wavelet_LDD   def_LDD  defmulti_LDD  pressure          w  \n",
       "0             NaN       NaN           NaN       4.2   8.262565  \n",
       "1             NaN       NaN           NaN       4.2   8.262565  \n",
       "2             NaN       NaN           NaN       4.2   8.262565  \n",
       "3        0.372547  0.436636      0.451026       4.2   8.262565  \n",
       "4        0.356758  0.431574      0.428556       4.2   8.262565  \n",
       "...           ...       ...           ...       ...        ...  \n",
       "2184          NaN       NaN           NaN       1.3  38.149670  \n",
       "2185          NaN       NaN           NaN       1.3  38.149670  \n",
       "2186          NaN       NaN           NaN       1.3  38.149670  \n",
       "2187          NaN       NaN           NaN       1.3  38.149670  \n",
       "2188          NaN       NaN           NaN       1.3  38.149670  \n",
       "\n",
       "[2727 rows x 32 columns]"
      ]
     },
     "execution_count": 25,
     "metadata": {},
     "output_type": "execute_result"
    }
   ],
   "source": [
    "# Skupina c) se bude slucovat podle datumu, skupiny a) a b) podle datumu a typu mereni.\n",
    "# Rozdělit na tri disjunktní skupiny, každou spojit se správnými daty a potom skupiny sesypat dohromady\n",
    "# Je to kvůli tomu, že se nedá použít merge když sloupec už existuje a update mi moc nefungovalo (Robert)\n",
    "mask_a = (DF.day == \"2024-09-02\") & (DF.type != \"mokro\")\n",
    "mask_b = (DF.day == \"2024-09-02\") & (DF.type == \"mokro\")\n",
    "mask_c = (DF.day != \"2024-09-02\")\n",
    "DF_a = DF[mask_a]\n",
    "DF_b = DF[mask_b]\n",
    "DF_c = DF[mask_c]\n",
    "DF_full = pd.concat(\n",
    "    [DF_a.merge(df_final_penetro_moisture_a, how='left'),\n",
    "     DF_b.merge(df_final_penetro_moisture_b, how='left'),\n",
    "     DF_c.merge(df_final_penetro_moisture_c, how='left')\n",
    "    ])\n",
    "DF_full\n",
    "    "
   ]
  },
  {
   "cell_type": "code",
   "execution_count": 26,
   "id": "6040e36d-bc7c-4456-aa77-45828cf8fab1",
   "metadata": {
    "execution": {
     "iopub.execute_input": "2025-02-27T16:04:24.802030Z",
     "iopub.status.busy": "2025-02-27T16:04:24.801509Z",
     "iopub.status.idle": "2025-02-27T16:04:24.808462Z",
     "shell.execute_reply": "2025-02-27T16:04:24.806979Z",
     "shell.execute_reply.started": "2025-02-27T16:04:24.801969Z"
    },
    "tags": []
   },
   "outputs": [],
   "source": [
    "# DF_full.loc[DF.day == \"2024-09-02\",[\"day\",\"type\",\"pressure\",\"w\"]]\n"
   ]
  },
  {
   "cell_type": "code",
   "execution_count": 27,
   "id": "3404f775-5f9c-4c2d-8177-eebc094f7ff4",
   "metadata": {
    "execution": {
     "iopub.execute_input": "2025-02-27T16:04:24.810614Z",
     "iopub.status.busy": "2025-02-27T16:04:24.810110Z",
     "iopub.status.idle": "2025-02-27T16:04:24.846300Z",
     "shell.execute_reply": "2025-02-27T16:04:24.844775Z",
     "shell.execute_reply.started": "2025-02-27T16:04:24.810557Z"
    },
    "tags": []
   },
   "outputs": [],
   "source": [
    "lambda_i = 1.8751\n",
    "DF_full[\"m\"] = DF_full[\"fresh_mass\"]\n",
    "DF_full[\"EdynL\"] = DF_full[\"CL\"]**2 * DF_full[\"dens_e\"]\n",
    "DF_full[\"Model1\"] = np.sqrt(1/DF_full[\"height\"])\n",
    "DF_full[\"Model1_CG\"] = np.sqrt(1/DF_full[\"CG\"])\n",
    "\n",
    "DF_full[\"Model2\"] = DF_full.DBH/DF_full.height**2\n",
    "DF_full[\"Model2_CG\"] = DF_full.DBH/DF_full.CG**2\n",
    "\n",
    "DF_full[\"I\"] = np.pi * DF_full[\"DBH\"]**4 / 64\n",
    "DF_full[\"Model3\"] = np.sqrt(DF_full[\"EdynL\"]*DF_full[\"I\"]/DF_full[\"fresh_mass\"]) \n",
    "DF_full[\"Model4\"] = DF_full[\"Model3\"] * lambda_i**2 / (2*np.pi*(DF_full[\"CG\"])**2)\n",
    "DF_full[\"Model5\"] = np.sqrt(DF_full[\"Model2\"])\n",
    "DF_full[\"Model6\"] = np.sqrt(DF_full.DBH/DF_full.CG**2/DF_full[\"fresh_mass\"])\n",
    "\n",
    "DF_full[\"slenderness_CG\"] = DF_full[\"DBH\"]/DF_full[\"CG\"]\n",
    "DF_full[\"slenderness_H\"] = DF_full[\"DBH\"]/DF_full[\"height\"]\n",
    "DF_full[\"m_CG^2\"] = DF_full[\"m\"] * DF_full[\"CG\"]**2\n",
    "\n"
   ]
  },
  {
   "cell_type": "code",
   "execution_count": 28,
   "id": "40aa2fab-00e5-4003-bbf3-ee6460dc023e",
   "metadata": {
    "execution": {
     "iopub.execute_input": "2025-02-27T16:04:24.848710Z",
     "iopub.status.busy": "2025-02-27T16:04:24.848166Z",
     "iopub.status.idle": "2025-02-27T16:04:25.107698Z",
     "shell.execute_reply": "2025-02-27T16:04:25.106216Z",
     "shell.execute_reply.started": "2025-02-27T16:04:24.848650Z"
    },
    "tags": []
   },
   "outputs": [],
   "source": [
    "DF_full.to_csv(f\"{output_folder}/dynatree_data_merge.csv\")"
   ]
  },
  {
   "cell_type": "code",
   "execution_count": 30,
   "id": "5604605c-fbbb-4237-9a54-4090cdbecc00",
   "metadata": {
    "execution": {
     "iopub.execute_input": "2025-02-27T16:07:14.952293Z",
     "iopub.status.busy": "2025-02-27T16:07:14.950977Z",
     "iopub.status.idle": "2025-02-27T16:07:14.963342Z",
     "shell.execute_reply": "2025-02-27T16:07:14.961815Z",
     "shell.execute_reply.started": "2025-02-27T16:07:14.952205Z"
    },
    "tags": []
   },
   "outputs": [
    {
     "data": {
      "text/plain": [
       "Index(['type', 'day', 'tree', 'probe', 'probeCam', 'measurement', 'pullNo',\n",
       "       'Slope', 'slope_root_stiff_nocam', 'slope_root_stiff_cam',\n",
       "       'slope_stem_stiff', 'first_frequency', 'fresh_mass', 'size_category',\n",
       "       'DBH', 'height', 'CG', 'trunk_height', 'CL', 'CR', 'CT', 'dens_all',\n",
       "       'w_all', 'dens_e', 'w_e', 'maxima_LDD', 'hilbert_LDD', 'wavelet_LDD',\n",
       "       'def_LDD', 'defmulti_LDD', 'pressure', 'w', 'm', 'EdynL', 'Model1',\n",
       "       'Model1_CG', 'Model2', 'Model2_CG', 'I', 'Model3', 'Model4', 'Model5',\n",
       "       'Model6', 'slenderness_CG', 'slenderness_H', 'm_CG^2'],\n",
       "      dtype='object')"
      ]
     },
     "execution_count": 30,
     "metadata": {},
     "output_type": "execute_result"
    }
   ],
   "source": [
    "DF_full.columns"
   ]
  },
  {
   "cell_type": "code",
   "execution_count": null,
   "id": "bd4e97b9-611e-4bb5-8962-c7b7570dc256",
   "metadata": {},
   "outputs": [],
   "source": []
  }
 ],
 "metadata": {
  "kernelspec": {
   "display_name": "Python 3 (ipykernel)",
   "language": "python",
   "name": "python3"
  },
  "language_info": {
   "codemirror_mode": {
    "name": "ipython",
    "version": 3
   },
   "file_extension": ".py",
   "mimetype": "text/x-python",
   "name": "python",
   "nbconvert_exporter": "python",
   "pygments_lexer": "ipython3",
   "version": "3.10.6"
  }
 },
 "nbformat": 4,
 "nbformat_minor": 5
}
