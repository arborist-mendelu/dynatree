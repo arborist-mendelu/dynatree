{
 "cells": [
  {
   "cell_type": "markdown",
   "id": "a71cba33-b12c-484c-8cdb-fec416db2841",
   "metadata": {},
   "source": [
    "# Načtení dat"
   ]
  },
  {
   "cell_type": "code",
   "execution_count": 1,
   "id": "1450e39a-1f5c-415a-b3e6-a5aa05a085a5",
   "metadata": {
    "execution": {
     "iopub.execute_input": "2025-03-11T14:50:20.832216Z",
     "iopub.status.busy": "2025-03-11T14:50:20.831653Z",
     "iopub.status.idle": "2025-03-11T14:50:21.469912Z",
     "shell.execute_reply": "2025-03-11T14:50:21.468391Z",
     "shell.execute_reply.started": "2025-03-11T14:50:20.832149Z"
    },
    "tags": []
   },
   "outputs": [],
   "source": [
    "import pandas as pd\n",
    "import numpy as np\n",
    "try:\n",
    "    # Pokud je konfigurační soubor, použij jej. Pro kompilaci pomocí snakemake nebo v příkazové řádce.\n",
    "    import config\n",
    "    source_path = config.merge['input_dir']\n",
    "    output_folder = config.merge['output_dir']\n",
    "    failed_fft = config.file['FFT_failed']\n",
    "except:\n",
    "    # Pokud není konfigurační soubor, použij následující nastavení. Pro kompilaci v Jupyteru.\n",
    "    source_path = \"https://euler.mendelu.cz/dynatree/static/public\"\n",
    "    failed_fft = \"https://raw.githubusercontent.com/arborist-mendelu/dynatree/refs/heads/master/scripts/csv/FFT_failed.csv\"\n",
    "    output_folder = \".\"\n",
    "    "
   ]
  },
  {
   "cell_type": "code",
   "execution_count": 2,
   "id": "384937fd-9295-4f24-89cd-b51a8ca5686b",
   "metadata": {
    "execution": {
     "iopub.execute_input": "2025-03-11T14:50:21.473326Z",
     "iopub.status.busy": "2025-03-11T14:50:21.472866Z",
     "iopub.status.idle": "2025-03-11T14:50:22.055185Z",
     "shell.execute_reply": "2025-03-11T14:50:22.053813Z",
     "shell.execute_reply.started": "2025-03-11T14:50:21.473285Z"
    },
    "tags": []
   },
   "outputs": [],
   "source": [
    "df_description = pd.read_excel(f\"{source_path}/Popis_Babice_VSE.xlsx\",\n",
    "                              sheet_name=\"Prehledova tabulka_zakludaje\", index_col=1, nrows=14\n",
    "                              ).drop(0)\n",
    "df_description;"
   ]
  },
  {
   "cell_type": "code",
   "execution_count": 3,
   "id": "795d7bca-12b3-4842-a4d4-c8dba831539c",
   "metadata": {
    "execution": {
     "iopub.execute_input": "2025-03-11T14:50:22.057184Z",
     "iopub.status.busy": "2025-03-11T14:50:22.056730Z",
     "iopub.status.idle": "2025-03-11T14:50:22.211742Z",
     "shell.execute_reply": "2025-03-11T14:50:22.209926Z",
     "shell.execute_reply.started": "2025-03-11T14:50:22.057138Z"
    },
    "tags": []
   },
   "outputs": [],
   "source": [
    "df_dynamics = pd.read_csv(f\"{source_path}/FFT_csv_tukey.csv\").rename(columns={'peak':'first_frequency'})\n",
    "df_dynamics = df_dynamics[df_dynamics.probe.isin([\"blueMaj\",\"yellowMaj\",\"Elasto(90)\",\"Pt3\",\"Pt4\",\"a01_z\",\"a02_z\",\"a03_z\"])]\n",
    "df_dynamics = df_dynamics[df_dynamics.tree != \"JD18\"]\n",
    "df_dynamics;"
   ]
  },
  {
   "cell_type": "code",
   "execution_count": 4,
   "id": "917a9209-b205-427e-b864-69e949421586",
   "metadata": {
    "execution": {
     "iopub.execute_input": "2025-03-11T14:50:22.215372Z",
     "iopub.status.busy": "2025-03-11T14:50:22.214338Z",
     "iopub.status.idle": "2025-03-11T14:50:22.419569Z",
     "shell.execute_reply": "2025-03-11T14:50:22.417756Z",
     "shell.execute_reply.started": "2025-03-11T14:50:22.215295Z"
    },
    "tags": []
   },
   "outputs": [],
   "source": [
    "df_static = pd.read_csv(f\"{source_path}/anotated_regressions_static.csv\", index_col=0)\n",
    "df_static = df_static[~df_static.Dependent.isin([\"Force(100)\",\"M_Pt\"])]\n",
    "df_static = df_static[df_static.optics==False]\n",
    "df_static.Slope = np.abs(df_static.Slope)\n",
    "df_static = df_static[df_static.failed == False]\n",
    "df_static;"
   ]
  },
  {
   "cell_type": "code",
   "execution_count": 5,
   "id": "d578da7d-95b5-40b1-bfef-4ca7d10e0bd3",
   "metadata": {
    "execution": {
     "iopub.execute_input": "2025-03-11T14:50:22.422441Z",
     "iopub.status.busy": "2025-03-11T14:50:22.421836Z",
     "iopub.status.idle": "2025-03-11T14:50:22.536704Z",
     "shell.execute_reply": "2025-03-11T14:50:22.534897Z",
     "shell.execute_reply.started": "2025-03-11T14:50:22.422371Z"
    },
    "tags": []
   },
   "outputs": [],
   "source": [
    "# TODO: pridat Patrikovy data\n",
    "df_damping = pd.read_csv(f\"{source_path}/damping_factor.csv\")\n",
    "df_damping = df_damping[[\"type\", \"day\", \"tree\", \"probe\", \"measurement\"]+\n",
    "               [i for i in df_damping.columns if \"_LDD\" in i]]\n",
    "df_damping = df_damping[df_damping.tree != \"JD18\"]\n",
    "df_damping;"
   ]
  },
  {
   "cell_type": "code",
   "execution_count": 6,
   "id": "62ff2884-f1af-4f16-98c9-35b9855714a4",
   "metadata": {
    "execution": {
     "iopub.execute_input": "2025-03-11T14:50:22.539824Z",
     "iopub.status.busy": "2025-03-11T14:50:22.538947Z",
     "iopub.status.idle": "2025-03-11T14:50:22.769404Z",
     "shell.execute_reply": "2025-03-11T14:50:22.767733Z",
     "shell.execute_reply.started": "2025-03-11T14:50:22.539755Z"
    },
    "tags": []
   },
   "outputs": [],
   "source": [
    "df_vlhkosti = pd.read_csv(f\"{source_path}/vlhkosti_babice.csv\")\n",
    "df_sondy = pd.read_csv(f\"{source_path}/sondy_a_stromy.csv\")\n",
    "df_sondy;"
   ]
  },
  {
   "cell_type": "code",
   "execution_count": 7,
   "id": "460abb3d-787c-4ac9-8023-8fae8095c9c5",
   "metadata": {
    "execution": {
     "iopub.execute_input": "2025-03-11T14:50:22.777311Z",
     "iopub.status.busy": "2025-03-11T14:50:22.775869Z",
     "iopub.status.idle": "2025-03-11T14:50:22.943023Z",
     "shell.execute_reply": "2025-03-11T14:50:22.941284Z",
     "shell.execute_reply.started": "2025-03-11T14:50:22.777241Z"
    },
    "tags": []
   },
   "outputs": [],
   "source": [
    "df_penetrologger = pd.read_csv(f\"{source_path}/penetrologger.csv\")\n",
    "df_penetrologger;"
   ]
  },
  {
   "cell_type": "code",
   "execution_count": 8,
   "id": "d49a4e01-799b-4796-ae38-2f3fed92523c",
   "metadata": {
    "execution": {
     "iopub.execute_input": "2025-03-11T14:50:22.945574Z",
     "iopub.status.busy": "2025-03-11T14:50:22.945031Z",
     "iopub.status.idle": "2025-03-11T14:50:23.075307Z",
     "shell.execute_reply": "2025-03-11T14:50:23.073547Z",
     "shell.execute_reply.started": "2025-03-11T14:50:22.945511Z"
    },
    "tags": []
   },
   "outputs": [],
   "source": [
    "df_velocity = pd.read_csv(f\"{source_path}/velocity_babice_oprava.csv\")\n",
    "df_velocity = df_velocity[df_velocity[\"tree\"] != \"JD18\"]\n",
    "\n",
    "# ze dne odebrat hodiny\n",
    "df_velocity[\"day\"] = df_velocity[\"day\"].apply(lambda x:x.split( )[0])\n",
    "df_velocity = df_velocity.drop([\"day real\", \"day\"], axis=1) # odebrat nepotrebne sloupce\n",
    "df_velocity = df_velocity.groupby(\"tree\").mean().reset_index() # prumer za kazdy strom\n",
    "df_velocity;"
   ]
  },
  {
   "cell_type": "markdown",
   "id": "6ee919b0-64d1-4e68-9f2a-c8f134895fdb",
   "metadata": {},
   "source": [
    "# Dendrologické parametry"
   ]
  },
  {
   "cell_type": "code",
   "execution_count": 9,
   "id": "1b807695-816f-4cfd-b6fb-af3717bf903e",
   "metadata": {
    "execution": {
     "iopub.execute_input": "2025-03-11T14:50:23.077862Z",
     "iopub.status.busy": "2025-03-11T14:50:23.077314Z",
     "iopub.status.idle": "2025-03-11T14:50:23.092231Z",
     "shell.execute_reply": "2025-03-11T14:50:23.090643Z",
     "shell.execute_reply.started": "2025-03-11T14:50:23.077799Z"
    },
    "tags": []
   },
   "outputs": [],
   "source": [
    "rename_columns = {\n",
    "    'tree no:':'tree', \n",
    "    'mass Krejza fresh (kg):':\"fresh_mass\",\n",
    "    \"kategorie\":\"size_category\",\n",
    "    \"diameter at 1.3 m (cm):\":\"DBH\",\n",
    "    \"height (m):\": \"height\",\n",
    "    \"centre of gravity (m)*:\": \"CG\",\n",
    "    'trunk height (m):': \"trunk_height\"\n",
    "}\n",
    "df_final_description = df_description.rename(columns=rename_columns)[[i for i in rename_columns.values()] + [\"tapering\"]]\n",
    "df_final_description[\"tree\"] = df_final_description[\"tree\"].map(lambda x: f\"BK{x:02}\")\n",
    "\n",
    "df_final_description;"
   ]
  },
  {
   "cell_type": "markdown",
   "id": "66b72a30-0944-4cec-a34b-5e89f509b776",
   "metadata": {},
   "source": [
    "# Zpracování penetrologgeru a vlhkosti půdy\n",
    "\n",
    "Pro kazdy strom nebo a pro kazdy den najdeme jednu hodnotu reprezentujici mechanicke vlastnosti pudy. \n",
    "Najdeme median pres vsechny udaje pro danou hloubku, den a strom a pote pro dany den a strom median pro vsechnhy hloubky. \n",
    "Prvni krok zajisti, ze vsechny hloubky se budou brat stejnou vahou. Jinak by byla povrchova informace vice zastoupena. \n",
    "\n",
    "Pracujeme s hloubkou jenom do 15 cm. Tato hloubka byla urcena po vyhodnoceni dat.\n",
    "\n",
    "Pocita se podmineny median, pokud jsou k dispozici aspon tri hodnoty."
   ]
  },
  {
   "cell_type": "code",
   "execution_count": 10,
   "id": "e497362c-aeff-4c11-8a53-38846f510bb7",
   "metadata": {
    "execution": {
     "iopub.execute_input": "2025-03-11T14:50:23.095371Z",
     "iopub.status.busy": "2025-03-11T14:50:23.094827Z",
     "iopub.status.idle": "2025-03-11T14:50:23.575781Z",
     "shell.execute_reply": "2025-03-11T14:50:23.574521Z",
     "shell.execute_reply.started": "2025-03-11T14:50:23.095307Z"
    },
    "tags": []
   },
   "outputs": [],
   "source": [
    "last_column = 15\n",
    "\n",
    "df = df_penetrologger.copy()\n",
    "days = df[\"day\"].drop_duplicates()\n",
    "trees = df[\"tree\"].drop_duplicates()\n",
    "trees = [i for i in trees if (i!=\"JD18\") & (i!=\"BK25\")]\n",
    "df = df[df[\"tree\"].isin(trees)]\n",
    "\n",
    "df = df[~((df[\"tree\"] == \"BK10\") & (df[\"day\"] == \"2021-03-22\"))]\n",
    "df = df[~((df[\"tree\"] == \"BK08\") & (df[\"day\"] == \"2021-03-22\"))]\n",
    "df = df.drop([\"0\",\"směr\",\"poznámka\",\"PENETRATION DATA\"], axis=1)\n",
    "days = df[\"day\"].drop_duplicates().to_numpy()\n",
    "df = df.loc[:,:f\"{last_column}\"]\n",
    "\n",
    "\n",
    "# Funkce pro výpočet mediánu při alespoň 3 nenan hodnotách\n",
    "def conditional_median(row):\n",
    "    valid_values = row.dropna()  # Odstranění NaN hodnot\n",
    "    if len(valid_values) >= 3:\n",
    "        return valid_values.median()\n",
    "    return np.nan  # Pokud méně než 3 hodnoty, vrátí NaN\n",
    "\n",
    "\n",
    "df_means = df.groupby([\"day\",\"tree\"]).agg(conditional_median)\n",
    "df_final_penetro = df_means.median(axis=1, skipna=True)\n",
    "df_final_penetro.name=\"pressure\"\n",
    "df_final_penetro = df_final_penetro.reset_index()\n",
    "df_final_penetro;"
   ]
  },
  {
   "cell_type": "markdown",
   "id": "2d739c4b-09a3-42ff-8016-f25cad78bf25",
   "metadata": {
    "tags": []
   },
   "source": [
    "# Přidání vlhkostí k penetrologgeru\n",
    "\n",
    "Přidáváme první dva horizonty`"
   ]
  },
  {
   "cell_type": "code",
   "execution_count": 11,
   "id": "49f4380a-785e-4b7a-b103-598af9984572",
   "metadata": {
    "execution": {
     "iopub.execute_input": "2025-03-11T14:50:23.577466Z",
     "iopub.status.busy": "2025-03-11T14:50:23.577142Z",
     "iopub.status.idle": "2025-03-11T14:50:23.588827Z",
     "shell.execute_reply": "2025-03-11T14:50:23.587261Z",
     "shell.execute_reply.started": "2025-03-11T14:50:23.577428Z"
    },
    "tags": []
   },
   "outputs": [],
   "source": [
    "df_m = df_vlhkosti.copy()\n",
    "df_m = df_m [[\"vzorek\",\"hmotnostní vlhkost  w\", \"den\"]]\n",
    "df_m.columns = [\"vzorek\",\"w\", \"den\"]\n",
    "# ve soupci vzorek rozdelit zapisy typu 1A na dva sloupce, sonda a horizont.\n",
    "df_m[\"horizont\"] = df_m[\"vzorek\"].apply(lambda x: x[-1])\n",
    "df_m[\"sonda\"] = df_m[\"vzorek\"].apply(lambda x: x[:-1]).astype(int)\n",
    "\n",
    "# načtení tabulky pro převod mezi stromy a sondami\n",
    "sondy = df_sondy\n",
    "sondy;"
   ]
  },
  {
   "cell_type": "code",
   "execution_count": 12,
   "id": "ef1f3e1c-f745-4892-8110-96955aee4d70",
   "metadata": {
    "execution": {
     "iopub.execute_input": "2025-03-11T14:50:23.591824Z",
     "iopub.status.busy": "2025-03-11T14:50:23.590997Z",
     "iopub.status.idle": "2025-03-11T14:50:23.616735Z",
     "shell.execute_reply": "2025-03-11T14:50:23.615198Z",
     "shell.execute_reply.started": "2025-03-11T14:50:23.591758Z"
    },
    "tags": []
   },
   "outputs": [],
   "source": [
    "sondy[\"strom\"] = sondy[\"strom\"].apply(lambda x: \"JD18\" if x==18 else f\"BK{x:02}\")\n",
    "df_m = df_m.merge(sondy, on='sonda', how='left')\n",
    "\n",
    "# df_m = df_m[df_m[\"strom\"]!=\"JD18\"]\n",
    "# df_m[df_m[\"den\"]==\"2021-03-22\"]\n",
    "\n",
    "df_m = (df_m[df_m[\"horizont\"]\n",
    "        .isin([\"A\",\"B\"])]  # vybere prvni dva horizonty\n",
    "        .drop([\"vzorek\", \"horizont\",\"sonda\"], axis=1) # vynechat sloupce\n",
    "        .groupby([\"den\",\"strom\"]).mean()   # prumer \n",
    "        .reset_index()\n",
    "       )\n",
    "df_m.columns = [\"day\",\"tree\",\"w\"]\n",
    "# df_m[df_m[\"day\"]==\"2021-03-22\"]"
   ]
  },
  {
   "cell_type": "code",
   "execution_count": 13,
   "id": "2d918dba-0429-4c14-9490-c013d518fe14",
   "metadata": {
    "execution": {
     "iopub.execute_input": "2025-03-11T14:50:23.619827Z",
     "iopub.status.busy": "2025-03-11T14:50:23.618747Z",
     "iopub.status.idle": "2025-03-11T14:50:23.636717Z",
     "shell.execute_reply": "2025-03-11T14:50:23.635218Z",
     "shell.execute_reply.started": "2025-03-11T14:50:23.619762Z"
    },
    "tags": []
   },
   "outputs": [],
   "source": [
    "df_final_penetro_moisture = df_final_penetro.merge(df_m, on=[\"day\",\"tree\"], how='outer')\n",
    "df_final_penetro_moisture = df_final_penetro_moisture[df_final_penetro_moisture.tree != \"JD18\"]\n",
    "df_final_penetro_moisture;"
   ]
  },
  {
   "cell_type": "markdown",
   "id": "4a88cafe-7856-40f2-ace2-08fc0b2606ec",
   "metadata": {},
   "source": [
    "Data rozdelit na tri skupiny, protoze se opakuje datum:\n",
    "\n",
    "a) 2024-09-02, b) 2024-29-20_mokro a c) zbytek\n",
    "\n",
    "skupina c) se bude slucovat podle datumu, skupiny a) a b) podle datumu a typu mereni.\n"
   ]
  },
  {
   "cell_type": "code",
   "execution_count": 14,
   "id": "6aa7cf8c-3c24-4a8e-bb2b-785ff2f81a23",
   "metadata": {
    "execution": {
     "iopub.execute_input": "2025-03-11T14:50:23.639647Z",
     "iopub.status.busy": "2025-03-11T14:50:23.638828Z",
     "iopub.status.idle": "2025-03-11T14:50:23.664821Z",
     "shell.execute_reply": "2025-03-11T14:50:23.663071Z",
     "shell.execute_reply.started": "2025-03-11T14:50:23.639545Z"
    },
    "tags": []
   },
   "outputs": [],
   "source": [
    "a = df_final_penetro_moisture[df_final_penetro_moisture.day == \"2024-09-02\"]\n",
    "b = df_final_penetro_moisture[df_final_penetro_moisture.day == \"2024-09-02_mokro\"]\n",
    "c = df_final_penetro_moisture[~df_final_penetro_moisture.day.isin([\"2024-09-02\",\"2024-09-02_mokro\"])]\n",
    "b.loc[:,[\"day\",\"type\"]] = [\"2024-09-02\", \"mokro\"]\n",
    "df_final_penetro_moisture_a = a.merge(pd.DataFrame({'day':[\"2024-09-02\"]*2, 'type':[\"normal\",\"afterro2\"]}), how='left')\n",
    "df_final_penetro_moisture_b = b\n",
    "df_final_penetro_moisture_c = c"
   ]
  },
  {
   "cell_type": "markdown",
   "id": "a70c93cf-ea72-4945-96ad-7d7c324aae8b",
   "metadata": {},
   "source": [
    "# Tahovky převést na camera/nocamera"
   ]
  },
  {
   "cell_type": "code",
   "execution_count": 15,
   "id": "7ebc4dfd-9d3d-49f4-a178-7ee994ebc9bb",
   "metadata": {
    "execution": {
     "iopub.execute_input": "2025-03-11T14:50:23.667560Z",
     "iopub.status.busy": "2025-03-11T14:50:23.666986Z",
     "iopub.status.idle": "2025-03-11T14:50:23.786311Z",
     "shell.execute_reply": "2025-03-11T14:50:23.784744Z",
     "shell.execute_reply.started": "2025-03-11T14:50:23.667498Z"
    },
    "tags": []
   },
   "outputs": [],
   "source": [
    "# Limity jsou stanoveny podle analýzy dat pomocí DBSCAN a IQR\n",
    "R2_limit_M = 0.95\n",
    "R2_limit_M_Elasto = 0.97\n",
    "\n",
    "df_tahovky = df_static.copy()  # zkopirovat si, aby zustala i puvodni data\n",
    "df_tahovky = df_tahovky[df_tahovky[\"Dependent\"] != \"M_Pt\"]  # vynechat optiku\n",
    "df_tahovky = df_tahovky[df_tahovky[\"Dependent\"] != \"Force(100)\"]  # vynechat siloměr\n",
    "df_tahovky = df_tahovky[df_tahovky[\"tree\"] != \"JD18\"]  # vynechat jedličku\n",
    "df_tahovky = df_tahovky[~df_tahovky[\"Slope\"].isna()]  # nesmí být nan v Slope\n",
    "df_tahovky = df_tahovky[df_tahovky[\"optics\"] == False] # vynechat optiku, pro jistotu ještě jednou\n",
    "\n",
    "# odfiltrovat spatne R^2 podle vysledku DBSCAN a hlavne IQR\n",
    "mask = (df_tahovky[\"Dependent\"] == \"M\") & (df_tahovky[\"R^2\"] < R2_limit_M)\n",
    "df_tahovky = df_tahovky[~mask]\n",
    "mask = (df_tahovky[\"Dependent\"] == \"M_Elasto\") & (df_tahovky[\"R^2\"] < R2_limit_M_Elasto)\n",
    "df_tahovky = df_tahovky[~mask]\n",
    "\n",
    "df_tahovky[\"probe\"] = df_tahovky[\"Independent\"].apply(lambda x: \"Elasto(90)\" if x==\"Elasto-strain\" else x)\n",
    "\n",
    "# Nastaveni Camera/NoCamera. Nechat i puvodni kvuli slucovani dat\n",
    "mask = df_tahovky[\"probe\"].isin([\"blueMaj\", \"yellowMaj\"])   # radky s inklinometry\n",
    "df_tahovky.loc[:,\"probeCam\"] = df_tahovky[\"probe\"]\n",
    "df_tahovky.loc[mask,\"probeCam\"] = df_tahovky.loc[mask,\"kamera\"].apply(lambda x: \"InclinoCamera\" if x is True else \"InclinoNoCamera\" if x is False else x)  # prejmenovani\n",
    "\n",
    "df_tahovky = df_tahovky[[\"type\",\"day\",\"tree\",\"probe\", \"probeCam\",\"measurement\",\"pullNo\",\"Slope\"]]\n",
    "\n",
    "# Slope kazdeho inklinometru do samostatneho sloupce\n",
    "probes = [\"InclinoNoCamera\", \"InclinoCamera\", \"Elasto(90)\"]\n",
    "columns = [\"slope_root_stiff_nocam\", \"slope_root_stiff_cam\", \"slope_stem_stiff\"]\n",
    "for probe, column in zip(probes, columns):\n",
    "    mask = df_tahovky[\"probeCam\"]==probe\n",
    "    df_tahovky.loc[mask, column] = df_tahovky.loc[mask,\"Slope\"]\n",
    "df_tahovky;"
   ]
  },
  {
   "cell_type": "markdown",
   "id": "00090b7a-7319-4e39-9764-8b484d389c00",
   "metadata": {},
   "source": [
    "# Finální spojení\n",
    "\n",
    "TODO\n",
    "\n",
    "* Co znamená v mých poznámkách (Robert) Sapflow se tremi vykricniky?\n",
    "* Dodat data od Patrika pro damping pomocí FFT\n",
    "* leaves True/False"
   ]
  },
  {
   "cell_type": "code",
   "execution_count": 16,
   "id": "7b8863da-48b7-4e06-8fa5-74e534c7e89b",
   "metadata": {
    "execution": {
     "iopub.execute_input": "2025-03-11T14:50:23.789715Z",
     "iopub.status.busy": "2025-03-11T14:50:23.788481Z",
     "iopub.status.idle": "2025-03-11T14:50:23.795234Z",
     "shell.execute_reply": "2025-03-11T14:50:23.793787Z",
     "shell.execute_reply.started": "2025-03-11T14:50:23.789650Z"
    },
    "tags": []
   },
   "outputs": [],
   "source": [
    "# df_final_penetro_moisture_a\n",
    "# df_final_penetro_moisture_b\n",
    "# df_final_penetro_moisture_c\n",
    "# df_final_description\n",
    "# df_velocity\n",
    "# df_damping\n",
    "# df_tahovky\n",
    "# df_dynamics"
   ]
  },
  {
   "cell_type": "code",
   "execution_count": 17,
   "id": "a66e63e4-02cf-4965-bcd8-816594022ce7",
   "metadata": {
    "execution": {
     "iopub.execute_input": "2025-03-11T14:50:23.797594Z",
     "iopub.status.busy": "2025-03-11T14:50:23.797053Z",
     "iopub.status.idle": "2025-03-11T14:50:23.814488Z",
     "shell.execute_reply": "2025-03-11T14:50:23.813009Z",
     "shell.execute_reply.started": "2025-03-11T14:50:23.797533Z"
    },
    "tags": []
   },
   "outputs": [
    {
     "data": {
      "text/plain": [
       "((2548, 11),\n",
       " (3059, 6),\n",
       " ['type', 'day', 'tree', 'probe', 'measurement'],\n",
       " ['type', 'day', 'tree', 'measurement', 'probe'])"
      ]
     },
     "execution_count": 17,
     "metadata": {},
     "output_type": "execute_result"
    }
   ],
   "source": [
    "(df_tahovky.shape, \n",
    " df_dynamics.shape, \n",
    " [i for i in df_tahovky.columns if i in df_dynamics.columns],\n",
    " [i for i in df_dynamics.columns if i in df_tahovky.columns]\n",
    ")"
   ]
  },
  {
   "cell_type": "code",
   "execution_count": 18,
   "id": "e26b56f6-d899-4fdc-8a4d-4e4fd9c4f64c",
   "metadata": {
    "execution": {
     "iopub.execute_input": "2025-03-11T14:50:23.816817Z",
     "iopub.status.busy": "2025-03-11T14:50:23.816238Z",
     "iopub.status.idle": "2025-03-11T14:50:23.851162Z",
     "shell.execute_reply": "2025-03-11T14:50:23.849703Z",
     "shell.execute_reply.started": "2025-03-11T14:50:23.816758Z"
    },
    "tags": []
   },
   "outputs": [
    {
     "data": {
      "text/plain": [
       "(4412, 12)"
      ]
     },
     "execution_count": 18,
     "metadata": {},
     "output_type": "execute_result"
    }
   ],
   "source": [
    "# spojit tahovky a dynamiku pres spolecne sloupce\n",
    "# 'type', 'day', 'tree', 'measurement', 'probe'\n",
    "# Rozmery uplne nesedi, protoze tahovky nekdy byly vyhozeny a dynamika ne, nebo naopak.\n",
    "DF = df_tahovky.merge(df_dynamics, how='outer')\n",
    "DF.shape"
   ]
  },
  {
   "cell_type": "code",
   "execution_count": 19,
   "id": "81f8cc85-3981-4c88-92d9-b38d9ad4fa92",
   "metadata": {
    "execution": {
     "iopub.execute_input": "2025-03-11T14:50:23.854172Z",
     "iopub.status.busy": "2025-03-11T14:50:23.853080Z",
     "iopub.status.idle": "2025-03-11T14:50:23.863758Z",
     "shell.execute_reply": "2025-03-11T14:50:23.862033Z",
     "shell.execute_reply.started": "2025-03-11T14:50:23.854105Z"
    },
    "tags": []
   },
   "outputs": [
    {
     "data": {
      "text/plain": [
       "['tree']"
      ]
     },
     "execution_count": 19,
     "metadata": {},
     "output_type": "execute_result"
    }
   ],
   "source": [
    "[i for i in DF if i in df_final_description]"
   ]
  },
  {
   "cell_type": "code",
   "execution_count": 20,
   "id": "881fb493-5625-403a-a920-87f676d07257",
   "metadata": {
    "execution": {
     "iopub.execute_input": "2025-03-11T14:50:23.866402Z",
     "iopub.status.busy": "2025-03-11T14:50:23.865834Z",
     "iopub.status.idle": "2025-03-11T14:50:23.883087Z",
     "shell.execute_reply": "2025-03-11T14:50:23.881569Z",
     "shell.execute_reply.started": "2025-03-11T14:50:23.866339Z"
    },
    "tags": []
   },
   "outputs": [],
   "source": [
    "# Pridat popis stromu, rozmery, dendroparametry\n",
    "DF = DF.merge(df_final_description, how='left')\n",
    "DF;"
   ]
  },
  {
   "cell_type": "code",
   "execution_count": 21,
   "id": "6fb5824e-c0cb-449f-8d34-5a13b566b81e",
   "metadata": {
    "execution": {
     "iopub.execute_input": "2025-03-11T14:50:23.885439Z",
     "iopub.status.busy": "2025-03-11T14:50:23.884848Z",
     "iopub.status.idle": "2025-03-11T14:50:23.900896Z",
     "shell.execute_reply": "2025-03-11T14:50:23.899396Z",
     "shell.execute_reply.started": "2025-03-11T14:50:23.885378Z"
    },
    "tags": []
   },
   "outputs": [],
   "source": [
    "# Pridat rychlosti a data od Janka. Data pro strom. \n",
    "DF = DF.merge(df_velocity, how='left')"
   ]
  },
  {
   "cell_type": "code",
   "execution_count": 22,
   "id": "acb5d1b9-8fb7-477e-9012-d2596498e8f3",
   "metadata": {
    "execution": {
     "iopub.execute_input": "2025-03-11T14:50:23.909836Z",
     "iopub.status.busy": "2025-03-11T14:50:23.908720Z",
     "iopub.status.idle": "2025-03-11T14:50:23.916322Z",
     "shell.execute_reply": "2025-03-11T14:50:23.914754Z",
     "shell.execute_reply.started": "2025-03-11T14:50:23.909770Z"
    },
    "tags": []
   },
   "outputs": [],
   "source": [
    "DF;"
   ]
  },
  {
   "cell_type": "code",
   "execution_count": 23,
   "id": "dd7ae643-66cb-4a6f-af83-baa83917dc63",
   "metadata": {
    "execution": {
     "iopub.execute_input": "2025-03-11T14:50:23.918845Z",
     "iopub.status.busy": "2025-03-11T14:50:23.918286Z",
     "iopub.status.idle": "2025-03-11T14:50:23.927170Z",
     "shell.execute_reply": "2025-03-11T14:50:23.925653Z",
     "shell.execute_reply.started": "2025-03-11T14:50:23.918783Z"
    },
    "tags": []
   },
   "outputs": [],
   "source": [
    "[i for i in DF.columns if i in df_damping.columns], [i for i in df_damping.columns if i in DF.columns];"
   ]
  },
  {
   "cell_type": "code",
   "execution_count": 24,
   "id": "0c5d9884-b73d-4bbe-993f-317d189d31e0",
   "metadata": {
    "execution": {
     "iopub.execute_input": "2025-03-11T14:50:23.929590Z",
     "iopub.status.busy": "2025-03-11T14:50:23.929024Z",
     "iopub.status.idle": "2025-03-11T14:50:23.953925Z",
     "shell.execute_reply": "2025-03-11T14:50:23.952405Z",
     "shell.execute_reply.started": "2025-03-11T14:50:23.929528Z"
    },
    "tags": []
   },
   "outputs": [],
   "source": [
    "# pridat tlumeni podle poli ['type', 'day', 'tree', 'probe', 'measurement']\n",
    "DF = DF.merge(df_damping, how='left')"
   ]
  },
  {
   "cell_type": "code",
   "execution_count": 25,
   "id": "52731213-6a78-43c6-af77-9b2dd5a1619c",
   "metadata": {
    "execution": {
     "iopub.execute_input": "2025-03-11T14:50:23.956551Z",
     "iopub.status.busy": "2025-03-11T14:50:23.955995Z",
     "iopub.status.idle": "2025-03-11T14:50:24.002167Z",
     "shell.execute_reply": "2025-03-11T14:50:24.000516Z",
     "shell.execute_reply.started": "2025-03-11T14:50:23.956488Z"
    },
    "tags": []
   },
   "outputs": [],
   "source": [
    "# Skupina c) se bude slucovat podle datumu, skupiny a) a b) podle datumu a typu mereni.\n",
    "# Rozdělit na tri disjunktní skupiny, každou spojit se správnými daty a potom skupiny sesypat dohromady\n",
    "# Je to kvůli tomu, že se nedá použít merge když sloupec už existuje a update mi moc nefungovalo (Robert)\n",
    "mask_a = (DF.day == \"2024-09-02\") & (DF.type != \"mokro\")\n",
    "mask_b = (DF.day == \"2024-09-02\") & (DF.type == \"mokro\")\n",
    "mask_c = (DF.day != \"2024-09-02\")\n",
    "DF_a = DF[mask_a]\n",
    "DF_b = DF[mask_b]\n",
    "DF_c = DF[mask_c]\n",
    "DF_full = pd.concat(\n",
    "    [DF_a.merge(df_final_penetro_moisture_a, how='left'),\n",
    "     DF_b.merge(df_final_penetro_moisture_b, how='left'),\n",
    "     DF_c.merge(df_final_penetro_moisture_c, how='left')\n",
    "    ])\n",
    "DF_full;\n",
    "    "
   ]
  },
  {
   "cell_type": "code",
   "execution_count": 26,
   "id": "6040e36d-bc7c-4456-aa77-45828cf8fab1",
   "metadata": {
    "execution": {
     "iopub.execute_input": "2025-03-11T14:50:24.005720Z",
     "iopub.status.busy": "2025-03-11T14:50:24.004289Z",
     "iopub.status.idle": "2025-03-11T14:50:24.011983Z",
     "shell.execute_reply": "2025-03-11T14:50:24.010261Z",
     "shell.execute_reply.started": "2025-03-11T14:50:24.005654Z"
    },
    "tags": []
   },
   "outputs": [],
   "source": [
    "# DF_full.loc[DF.day == \"2024-09-02\",[\"day\",\"type\",\"pressure\",\"w\"]]\n"
   ]
  },
  {
   "cell_type": "code",
   "execution_count": 27,
   "id": "3404f775-5f9c-4c2d-8177-eebc094f7ff4",
   "metadata": {
    "execution": {
     "iopub.execute_input": "2025-03-11T14:50:24.015184Z",
     "iopub.status.busy": "2025-03-11T14:50:24.014457Z",
     "iopub.status.idle": "2025-03-11T14:50:24.048645Z",
     "shell.execute_reply": "2025-03-11T14:50:24.047059Z",
     "shell.execute_reply.started": "2025-03-11T14:50:24.015122Z"
    },
    "tags": []
   },
   "outputs": [],
   "source": [
    "lambda_i = 1.8751\n",
    "DF_full[\"m\"] = DF_full[\"fresh_mass\"]\n",
    "DF_full[\"EdynL\"] = DF_full[\"CL\"]**2 * DF_full[\"dens_e\"]\n",
    "DF_full[\"Model1\"] = np.sqrt(1/DF_full[\"height\"])\n",
    "DF_full[\"Model1_CG\"] = np.sqrt(1/DF_full[\"CG\"])\n",
    "\n",
    "DF_full[\"Model2\"] = DF_full.DBH/DF_full.height**2\n",
    "DF_full[\"Model2_CG\"] = DF_full.DBH/DF_full.CG**2\n",
    "\n",
    "DF_full[\"I\"] = np.pi * DF_full[\"DBH\"]**4 / 64\n",
    "DF_full[\"Model3\"] = np.sqrt(DF_full[\"EdynL\"]*DF_full[\"I\"]/DF_full[\"fresh_mass\"]) \n",
    "DF_full[\"Model4\"] = DF_full[\"Model3\"] * lambda_i**2 / (2*np.pi*(DF_full[\"CG\"])**2)\n",
    "DF_full[\"Model5\"] = np.sqrt(DF_full[\"Model2\"])\n",
    "DF_full[\"Model6\"] = np.sqrt(DF_full.DBH/DF_full.CG**2/DF_full[\"fresh_mass\"])\n",
    "\n",
    "DF_full[\"slenderness_CG\"] = DF_full[\"DBH\"]/DF_full[\"CG\"]\n",
    "DF_full[\"slenderness_H\"] = DF_full[\"DBH\"]/DF_full[\"height\"]\n",
    "DF_full[\"m_CG^2\"] = DF_full[\"m\"] * DF_full[\"CG\"]**2\n",
    "\n"
   ]
  },
  {
   "cell_type": "markdown",
   "id": "62bdf38a-7615-4067-b3fa-cb1843e765fc",
   "metadata": {},
   "source": [
    "# Uložit"
   ]
  },
  {
   "cell_type": "code",
   "execution_count": 28,
   "id": "67c5a4a6-dd88-4b47-a6df-dd525317c059",
   "metadata": {
    "execution": {
     "iopub.execute_input": "2025-03-11T14:50:24.051867Z",
     "iopub.status.busy": "2025-03-11T14:50:24.050670Z",
     "iopub.status.idle": "2025-03-11T14:50:24.358419Z",
     "shell.execute_reply": "2025-03-11T14:50:24.356767Z",
     "shell.execute_reply.started": "2025-03-11T14:50:24.051801Z"
    }
   },
   "outputs": [],
   "source": [
    "df_failed = pd.read_csv(failed_fft)"
   ]
  },
  {
   "cell_type": "code",
   "execution_count": 29,
   "id": "c605b724-7fbc-4029-9781-7e2216cf7da8",
   "metadata": {
    "execution": {
     "iopub.execute_input": "2025-03-11T14:50:24.361620Z",
     "iopub.status.busy": "2025-03-11T14:50:24.360416Z",
     "iopub.status.idle": "2025-03-11T14:50:24.399669Z",
     "shell.execute_reply": "2025-03-11T14:50:24.398089Z",
     "shell.execute_reply.started": "2025-03-11T14:50:24.361552Z"
    },
    "tags": []
   },
   "outputs": [],
   "source": [
    "# Sloupce pro porovnání\n",
    "keys = ['type', 'day', 'tree', 'measurement', 'probe']\n",
    "\n",
    "# Nastavení NaN pro odpovídající řádky\n",
    "DF_full.loc[DF_full.set_index(keys).index.isin(df_failed.set_index(keys).index), 'first_frequency'] = np.nan\n"
   ]
  },
  {
   "cell_type": "code",
   "execution_count": 30,
   "id": "40aa2fab-00e5-4003-bbf3-ee6460dc023e",
   "metadata": {
    "execution": {
     "iopub.execute_input": "2025-03-11T14:50:24.402117Z",
     "iopub.status.busy": "2025-03-11T14:50:24.401568Z",
     "iopub.status.idle": "2025-03-11T14:50:24.776403Z",
     "shell.execute_reply": "2025-03-11T14:50:24.774791Z",
     "shell.execute_reply.started": "2025-03-11T14:50:24.402053Z"
    },
    "tags": []
   },
   "outputs": [],
   "source": [
    "DF_full.to_csv(f\"{output_folder}/dynatree_data_merge.csv\")"
   ]
  },
  {
   "cell_type": "code",
   "execution_count": null,
   "id": "e9127c7a-6ea8-4140-9251-3b4e69000e9a",
   "metadata": {},
   "outputs": [],
   "source": []
  }
 ],
 "metadata": {
  "kernelspec": {
   "display_name": "Python 3 (ipykernel)",
   "language": "python",
   "name": "python3"
  },
  "language_info": {
   "codemirror_mode": {
    "name": "ipython",
    "version": 3
   },
   "file_extension": ".py",
   "mimetype": "text/x-python",
   "name": "python",
   "nbconvert_exporter": "python",
   "pygments_lexer": "ipython3",
   "version": "3.10.6"
  }
 },
 "nbformat": 4,
 "nbformat_minor": 5
}
